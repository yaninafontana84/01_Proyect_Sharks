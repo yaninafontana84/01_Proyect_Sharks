{
 "cells": [
  {
   "cell_type": "code",
   "execution_count": 1,
   "id": "89306fa8",
   "metadata": {},
   "outputs": [],
   "source": [
    "# librerias a importar\n",
    "\n",
    "import pandas as pd\n",
    "pd.set_option('display.max_columns', None)\n",
    "\n",
    "import numpy as np\n",
    "\n",
    "import warnings\n",
    "warnings.filterwarnings('ignore')\n",
    "\n",
    "import pylab as plt  # import matplotlib.pyplot as plt\n",
    "import seaborn as sns\n",
    "\n",
    "%matplotlib inline"
   ]
  },
  {
   "cell_type": "code",
   "execution_count": 2,
   "id": "afeb0737",
   "metadata": {},
   "outputs": [
    {
     "data": {
      "text/html": [
       "<div>\n",
       "<style scoped>\n",
       "    .dataframe tbody tr th:only-of-type {\n",
       "        vertical-align: middle;\n",
       "    }\n",
       "\n",
       "    .dataframe tbody tr th {\n",
       "        vertical-align: top;\n",
       "    }\n",
       "\n",
       "    .dataframe thead th {\n",
       "        text-align: right;\n",
       "    }\n",
       "</style>\n",
       "<table border=\"1\" class=\"dataframe\">\n",
       "  <thead>\n",
       "    <tr style=\"text-align: right;\">\n",
       "      <th></th>\n",
       "      <th>Case Number</th>\n",
       "      <th>Date</th>\n",
       "      <th>Year</th>\n",
       "      <th>Type</th>\n",
       "      <th>Country</th>\n",
       "      <th>Area</th>\n",
       "      <th>Location</th>\n",
       "      <th>Activity</th>\n",
       "      <th>Name</th>\n",
       "      <th>Sex</th>\n",
       "      <th>Age</th>\n",
       "      <th>Injury</th>\n",
       "      <th>Fatal (Y/N)</th>\n",
       "      <th>Time</th>\n",
       "      <th>Species</th>\n",
       "      <th>Investigator or Source</th>\n",
       "      <th>pdf</th>\n",
       "      <th>href formula</th>\n",
       "      <th>href</th>\n",
       "      <th>Case Number.1</th>\n",
       "      <th>Case Number.2</th>\n",
       "      <th>original order</th>\n",
       "      <th>Unnamed: 22</th>\n",
       "      <th>Unnamed: 23</th>\n",
       "    </tr>\n",
       "  </thead>\n",
       "  <tbody>\n",
       "    <tr>\n",
       "      <th>0</th>\n",
       "      <td>2018.06.25</td>\n",
       "      <td>25-Jun-2018</td>\n",
       "      <td>2018.0</td>\n",
       "      <td>Boating</td>\n",
       "      <td>USA</td>\n",
       "      <td>California</td>\n",
       "      <td>Oceanside, San Diego County</td>\n",
       "      <td>Paddling</td>\n",
       "      <td>Julie Wolfe</td>\n",
       "      <td>F</td>\n",
       "      <td>57</td>\n",
       "      <td>No injury to occupant, outrigger canoe and pad...</td>\n",
       "      <td>N</td>\n",
       "      <td>18h00</td>\n",
       "      <td>White shark</td>\n",
       "      <td>R. Collier, GSAF</td>\n",
       "      <td>2018.06.25-Wolfe.pdf</td>\n",
       "      <td>http://sharkattackfile.net/spreadsheets/pdf_di...</td>\n",
       "      <td>http://sharkattackfile.net/spreadsheets/pdf_di...</td>\n",
       "      <td>2018.06.25</td>\n",
       "      <td>2018.06.25</td>\n",
       "      <td>6303.0</td>\n",
       "      <td>NaN</td>\n",
       "      <td>NaN</td>\n",
       "    </tr>\n",
       "    <tr>\n",
       "      <th>1</th>\n",
       "      <td>2018.06.18</td>\n",
       "      <td>18-Jun-2018</td>\n",
       "      <td>2018.0</td>\n",
       "      <td>Unprovoked</td>\n",
       "      <td>USA</td>\n",
       "      <td>Georgia</td>\n",
       "      <td>St. Simon Island, Glynn County</td>\n",
       "      <td>Standing</td>\n",
       "      <td>Adyson McNeely</td>\n",
       "      <td>F</td>\n",
       "      <td>11</td>\n",
       "      <td>Minor injury to left thigh</td>\n",
       "      <td>N</td>\n",
       "      <td>14h00  -15h00</td>\n",
       "      <td>NaN</td>\n",
       "      <td>K.McMurray, TrackingSharks.com</td>\n",
       "      <td>2018.06.18-McNeely.pdf</td>\n",
       "      <td>http://sharkattackfile.net/spreadsheets/pdf_di...</td>\n",
       "      <td>http://sharkattackfile.net/spreadsheets/pdf_di...</td>\n",
       "      <td>2018.06.18</td>\n",
       "      <td>2018.06.18</td>\n",
       "      <td>6302.0</td>\n",
       "      <td>NaN</td>\n",
       "      <td>NaN</td>\n",
       "    </tr>\n",
       "    <tr>\n",
       "      <th>2</th>\n",
       "      <td>2018.06.09</td>\n",
       "      <td>09-Jun-2018</td>\n",
       "      <td>2018.0</td>\n",
       "      <td>Invalid</td>\n",
       "      <td>USA</td>\n",
       "      <td>Hawaii</td>\n",
       "      <td>Habush, Oahu</td>\n",
       "      <td>Surfing</td>\n",
       "      <td>John Denges</td>\n",
       "      <td>M</td>\n",
       "      <td>48</td>\n",
       "      <td>Injury to left lower leg from surfboard skeg</td>\n",
       "      <td>N</td>\n",
       "      <td>07h45</td>\n",
       "      <td>NaN</td>\n",
       "      <td>K.McMurray, TrackingSharks.com</td>\n",
       "      <td>2018.06.09-Denges.pdf</td>\n",
       "      <td>http://sharkattackfile.net/spreadsheets/pdf_di...</td>\n",
       "      <td>http://sharkattackfile.net/spreadsheets/pdf_di...</td>\n",
       "      <td>2018.06.09</td>\n",
       "      <td>2018.06.09</td>\n",
       "      <td>6301.0</td>\n",
       "      <td>NaN</td>\n",
       "      <td>NaN</td>\n",
       "    </tr>\n",
       "    <tr>\n",
       "      <th>3</th>\n",
       "      <td>2018.06.08</td>\n",
       "      <td>08-Jun-2018</td>\n",
       "      <td>2018.0</td>\n",
       "      <td>Unprovoked</td>\n",
       "      <td>AUSTRALIA</td>\n",
       "      <td>New South Wales</td>\n",
       "      <td>Arrawarra Headland</td>\n",
       "      <td>Surfing</td>\n",
       "      <td>male</td>\n",
       "      <td>M</td>\n",
       "      <td>NaN</td>\n",
       "      <td>Minor injury to lower leg</td>\n",
       "      <td>N</td>\n",
       "      <td>NaN</td>\n",
       "      <td>2 m shark</td>\n",
       "      <td>B. Myatt, GSAF</td>\n",
       "      <td>2018.06.08-Arrawarra.pdf</td>\n",
       "      <td>http://sharkattackfile.net/spreadsheets/pdf_di...</td>\n",
       "      <td>http://sharkattackfile.net/spreadsheets/pdf_di...</td>\n",
       "      <td>2018.06.08</td>\n",
       "      <td>2018.06.08</td>\n",
       "      <td>6300.0</td>\n",
       "      <td>NaN</td>\n",
       "      <td>NaN</td>\n",
       "    </tr>\n",
       "    <tr>\n",
       "      <th>4</th>\n",
       "      <td>2018.06.04</td>\n",
       "      <td>04-Jun-2018</td>\n",
       "      <td>2018.0</td>\n",
       "      <td>Provoked</td>\n",
       "      <td>MEXICO</td>\n",
       "      <td>Colima</td>\n",
       "      <td>La Ticla</td>\n",
       "      <td>Free diving</td>\n",
       "      <td>Gustavo Ramos</td>\n",
       "      <td>M</td>\n",
       "      <td>NaN</td>\n",
       "      <td>Lacerations to leg &amp; hand shark PROVOKED INCIDENT</td>\n",
       "      <td>N</td>\n",
       "      <td>NaN</td>\n",
       "      <td>Tiger shark, 3m</td>\n",
       "      <td>A .Kipper</td>\n",
       "      <td>2018.06.04-Ramos.pdf</td>\n",
       "      <td>http://sharkattackfile.net/spreadsheets/pdf_di...</td>\n",
       "      <td>http://sharkattackfile.net/spreadsheets/pdf_di...</td>\n",
       "      <td>2018.06.04</td>\n",
       "      <td>2018.06.04</td>\n",
       "      <td>6299.0</td>\n",
       "      <td>NaN</td>\n",
       "      <td>NaN</td>\n",
       "    </tr>\n",
       "  </tbody>\n",
       "</table>\n",
       "</div>"
      ],
      "text/plain": [
       "  Case Number         Date    Year        Type    Country             Area  \\\n",
       "0  2018.06.25  25-Jun-2018  2018.0     Boating        USA       California   \n",
       "1  2018.06.18  18-Jun-2018  2018.0  Unprovoked        USA          Georgia   \n",
       "2  2018.06.09  09-Jun-2018  2018.0     Invalid        USA           Hawaii   \n",
       "3  2018.06.08  08-Jun-2018  2018.0  Unprovoked  AUSTRALIA  New South Wales   \n",
       "4  2018.06.04  04-Jun-2018  2018.0    Provoked     MEXICO           Colima   \n",
       "\n",
       "                         Location     Activity             Name Sex   Age  \\\n",
       "0     Oceanside, San Diego County     Paddling      Julie Wolfe    F   57   \n",
       "1  St. Simon Island, Glynn County     Standing  Adyson McNeely     F   11   \n",
       "2                    Habush, Oahu      Surfing      John Denges    M   48   \n",
       "3              Arrawarra Headland      Surfing             male    M  NaN   \n",
       "4                        La Ticla  Free diving   Gustavo Ramos     M  NaN   \n",
       "\n",
       "                                              Injury Fatal (Y/N)  \\\n",
       "0  No injury to occupant, outrigger canoe and pad...           N   \n",
       "1                         Minor injury to left thigh           N   \n",
       "2       Injury to left lower leg from surfboard skeg           N   \n",
       "3                          Minor injury to lower leg           N   \n",
       "4  Lacerations to leg & hand shark PROVOKED INCIDENT           N   \n",
       "\n",
       "            Time         Species           Investigator or Source  \\\n",
       "0          18h00      White shark                R. Collier, GSAF   \n",
       "1  14h00  -15h00              NaN  K.McMurray, TrackingSharks.com   \n",
       "2          07h45              NaN  K.McMurray, TrackingSharks.com   \n",
       "3            NaN        2 m shark                  B. Myatt, GSAF   \n",
       "4            NaN  Tiger shark, 3m                       A .Kipper   \n",
       "\n",
       "                        pdf  \\\n",
       "0      2018.06.25-Wolfe.pdf   \n",
       "1    2018.06.18-McNeely.pdf   \n",
       "2     2018.06.09-Denges.pdf   \n",
       "3  2018.06.08-Arrawarra.pdf   \n",
       "4      2018.06.04-Ramos.pdf   \n",
       "\n",
       "                                        href formula  \\\n",
       "0  http://sharkattackfile.net/spreadsheets/pdf_di...   \n",
       "1  http://sharkattackfile.net/spreadsheets/pdf_di...   \n",
       "2  http://sharkattackfile.net/spreadsheets/pdf_di...   \n",
       "3  http://sharkattackfile.net/spreadsheets/pdf_di...   \n",
       "4  http://sharkattackfile.net/spreadsheets/pdf_di...   \n",
       "\n",
       "                                                href Case Number.1  \\\n",
       "0  http://sharkattackfile.net/spreadsheets/pdf_di...    2018.06.25   \n",
       "1  http://sharkattackfile.net/spreadsheets/pdf_di...    2018.06.18   \n",
       "2  http://sharkattackfile.net/spreadsheets/pdf_di...    2018.06.09   \n",
       "3  http://sharkattackfile.net/spreadsheets/pdf_di...    2018.06.08   \n",
       "4  http://sharkattackfile.net/spreadsheets/pdf_di...    2018.06.04   \n",
       "\n",
       "  Case Number.2  original order Unnamed: 22 Unnamed: 23  \n",
       "0    2018.06.25          6303.0         NaN         NaN  \n",
       "1    2018.06.18          6302.0         NaN         NaN  \n",
       "2    2018.06.09          6301.0         NaN         NaN  \n",
       "3    2018.06.08          6300.0         NaN         NaN  \n",
       "4    2018.06.04          6299.0         NaN         NaN  "
      ]
     },
     "execution_count": 2,
     "metadata": {},
     "output_type": "execute_result"
    }
   ],
   "source": [
    "# cargan de datos de tiburones\n",
    "\n",
    "attacks_ori = pd.read_csv('/Users/yaninafontana/ironhack/01_Proyect_Sharks/data/attacks.csv', encoding='latin1')\n",
    "\n",
    "attacks =  attacks_ori.copy()\n",
    "\n",
    "attacks.head()"
   ]
  },
  {
   "cell_type": "code",
   "execution_count": 3,
   "id": "23ce889c",
   "metadata": {},
   "outputs": [
    {
     "data": {
      "text/plain": [
       "(25723, 24)"
      ]
     },
     "execution_count": 3,
     "metadata": {},
     "output_type": "execute_result"
    }
   ],
   "source": [
    "attacks.shape #dimensiones originales de attacks"
   ]
  },
  {
   "cell_type": "code",
   "execution_count": 4,
   "id": "86bc10b3",
   "metadata": {},
   "outputs": [
    {
     "data": {
      "text/plain": [
       "True"
      ]
     },
     "execution_count": 4,
     "metadata": {},
     "output_type": "execute_result"
    }
   ],
   "source": [
    "attacks.duplicated().any() #hay duplicados"
   ]
  },
  {
   "cell_type": "code",
   "execution_count": 5,
   "id": "9b55ef7b",
   "metadata": {},
   "outputs": [
    {
     "data": {
      "text/html": [
       "<div>\n",
       "<style scoped>\n",
       "    .dataframe tbody tr th:only-of-type {\n",
       "        vertical-align: middle;\n",
       "    }\n",
       "\n",
       "    .dataframe tbody tr th {\n",
       "        vertical-align: top;\n",
       "    }\n",
       "\n",
       "    .dataframe thead th {\n",
       "        text-align: right;\n",
       "    }\n",
       "</style>\n",
       "<table border=\"1\" class=\"dataframe\">\n",
       "  <thead>\n",
       "    <tr style=\"text-align: right;\">\n",
       "      <th></th>\n",
       "      <th>Case Number</th>\n",
       "      <th>Date</th>\n",
       "      <th>Year</th>\n",
       "      <th>Type</th>\n",
       "      <th>Country</th>\n",
       "      <th>Area</th>\n",
       "      <th>Location</th>\n",
       "      <th>Activity</th>\n",
       "      <th>Name</th>\n",
       "      <th>Sex</th>\n",
       "      <th>Age</th>\n",
       "      <th>Injury</th>\n",
       "      <th>Fatal (Y/N)</th>\n",
       "      <th>Time</th>\n",
       "      <th>Species</th>\n",
       "      <th>Investigator or Source</th>\n",
       "      <th>pdf</th>\n",
       "      <th>href formula</th>\n",
       "      <th>href</th>\n",
       "      <th>Case Number.1</th>\n",
       "      <th>Case Number.2</th>\n",
       "      <th>original order</th>\n",
       "      <th>Unnamed: 22</th>\n",
       "      <th>Unnamed: 23</th>\n",
       "    </tr>\n",
       "  </thead>\n",
       "  <tbody>\n",
       "    <tr>\n",
       "      <th>6310</th>\n",
       "      <td>0</td>\n",
       "      <td>NaN</td>\n",
       "      <td>NaN</td>\n",
       "      <td>NaN</td>\n",
       "      <td>NaN</td>\n",
       "      <td>NaN</td>\n",
       "      <td>NaN</td>\n",
       "      <td>NaN</td>\n",
       "      <td>NaN</td>\n",
       "      <td>NaN</td>\n",
       "      <td>NaN</td>\n",
       "      <td>NaN</td>\n",
       "      <td>NaN</td>\n",
       "      <td>NaN</td>\n",
       "      <td>NaN</td>\n",
       "      <td>NaN</td>\n",
       "      <td>NaN</td>\n",
       "      <td>NaN</td>\n",
       "      <td>NaN</td>\n",
       "      <td>NaN</td>\n",
       "      <td>NaN</td>\n",
       "      <td>NaN</td>\n",
       "      <td>NaN</td>\n",
       "      <td>NaN</td>\n",
       "    </tr>\n",
       "    <tr>\n",
       "      <th>6311</th>\n",
       "      <td>0</td>\n",
       "      <td>NaN</td>\n",
       "      <td>NaN</td>\n",
       "      <td>NaN</td>\n",
       "      <td>NaN</td>\n",
       "      <td>NaN</td>\n",
       "      <td>NaN</td>\n",
       "      <td>NaN</td>\n",
       "      <td>NaN</td>\n",
       "      <td>NaN</td>\n",
       "      <td>NaN</td>\n",
       "      <td>NaN</td>\n",
       "      <td>NaN</td>\n",
       "      <td>NaN</td>\n",
       "      <td>NaN</td>\n",
       "      <td>NaN</td>\n",
       "      <td>NaN</td>\n",
       "      <td>NaN</td>\n",
       "      <td>NaN</td>\n",
       "      <td>NaN</td>\n",
       "      <td>NaN</td>\n",
       "      <td>NaN</td>\n",
       "      <td>NaN</td>\n",
       "      <td>NaN</td>\n",
       "    </tr>\n",
       "    <tr>\n",
       "      <th>6312</th>\n",
       "      <td>0</td>\n",
       "      <td>NaN</td>\n",
       "      <td>NaN</td>\n",
       "      <td>NaN</td>\n",
       "      <td>NaN</td>\n",
       "      <td>NaN</td>\n",
       "      <td>NaN</td>\n",
       "      <td>NaN</td>\n",
       "      <td>NaN</td>\n",
       "      <td>NaN</td>\n",
       "      <td>NaN</td>\n",
       "      <td>NaN</td>\n",
       "      <td>NaN</td>\n",
       "      <td>NaN</td>\n",
       "      <td>NaN</td>\n",
       "      <td>NaN</td>\n",
       "      <td>NaN</td>\n",
       "      <td>NaN</td>\n",
       "      <td>NaN</td>\n",
       "      <td>NaN</td>\n",
       "      <td>NaN</td>\n",
       "      <td>NaN</td>\n",
       "      <td>NaN</td>\n",
       "      <td>NaN</td>\n",
       "    </tr>\n",
       "    <tr>\n",
       "      <th>6313</th>\n",
       "      <td>0</td>\n",
       "      <td>NaN</td>\n",
       "      <td>NaN</td>\n",
       "      <td>NaN</td>\n",
       "      <td>NaN</td>\n",
       "      <td>NaN</td>\n",
       "      <td>NaN</td>\n",
       "      <td>NaN</td>\n",
       "      <td>NaN</td>\n",
       "      <td>NaN</td>\n",
       "      <td>NaN</td>\n",
       "      <td>NaN</td>\n",
       "      <td>NaN</td>\n",
       "      <td>NaN</td>\n",
       "      <td>NaN</td>\n",
       "      <td>NaN</td>\n",
       "      <td>NaN</td>\n",
       "      <td>NaN</td>\n",
       "      <td>NaN</td>\n",
       "      <td>NaN</td>\n",
       "      <td>NaN</td>\n",
       "      <td>NaN</td>\n",
       "      <td>NaN</td>\n",
       "      <td>NaN</td>\n",
       "    </tr>\n",
       "    <tr>\n",
       "      <th>6314</th>\n",
       "      <td>0</td>\n",
       "      <td>NaN</td>\n",
       "      <td>NaN</td>\n",
       "      <td>NaN</td>\n",
       "      <td>NaN</td>\n",
       "      <td>NaN</td>\n",
       "      <td>NaN</td>\n",
       "      <td>NaN</td>\n",
       "      <td>NaN</td>\n",
       "      <td>NaN</td>\n",
       "      <td>NaN</td>\n",
       "      <td>NaN</td>\n",
       "      <td>NaN</td>\n",
       "      <td>NaN</td>\n",
       "      <td>NaN</td>\n",
       "      <td>NaN</td>\n",
       "      <td>NaN</td>\n",
       "      <td>NaN</td>\n",
       "      <td>NaN</td>\n",
       "      <td>NaN</td>\n",
       "      <td>NaN</td>\n",
       "      <td>NaN</td>\n",
       "      <td>NaN</td>\n",
       "      <td>NaN</td>\n",
       "    </tr>\n",
       "  </tbody>\n",
       "</table>\n",
       "</div>"
      ],
      "text/plain": [
       "     Case Number Date  Year Type Country Area Location Activity Name Sex   \\\n",
       "6310           0  NaN   NaN  NaN     NaN  NaN      NaN      NaN  NaN  NaN   \n",
       "6311           0  NaN   NaN  NaN     NaN  NaN      NaN      NaN  NaN  NaN   \n",
       "6312           0  NaN   NaN  NaN     NaN  NaN      NaN      NaN  NaN  NaN   \n",
       "6313           0  NaN   NaN  NaN     NaN  NaN      NaN      NaN  NaN  NaN   \n",
       "6314           0  NaN   NaN  NaN     NaN  NaN      NaN      NaN  NaN  NaN   \n",
       "\n",
       "      Age Injury Fatal (Y/N) Time Species  Investigator or Source  pdf  \\\n",
       "6310  NaN    NaN         NaN  NaN      NaN                    NaN  NaN   \n",
       "6311  NaN    NaN         NaN  NaN      NaN                    NaN  NaN   \n",
       "6312  NaN    NaN         NaN  NaN      NaN                    NaN  NaN   \n",
       "6313  NaN    NaN         NaN  NaN      NaN                    NaN  NaN   \n",
       "6314  NaN    NaN         NaN  NaN      NaN                    NaN  NaN   \n",
       "\n",
       "     href formula href Case Number.1 Case Number.2  original order  \\\n",
       "6310          NaN  NaN           NaN           NaN             NaN   \n",
       "6311          NaN  NaN           NaN           NaN             NaN   \n",
       "6312          NaN  NaN           NaN           NaN             NaN   \n",
       "6313          NaN  NaN           NaN           NaN             NaN   \n",
       "6314          NaN  NaN           NaN           NaN             NaN   \n",
       "\n",
       "     Unnamed: 22 Unnamed: 23  \n",
       "6310         NaN         NaN  \n",
       "6311         NaN         NaN  \n",
       "6312         NaN         NaN  \n",
       "6313         NaN         NaN  \n",
       "6314         NaN         NaN  "
      ]
     },
     "execution_count": 5,
     "metadata": {},
     "output_type": "execute_result"
    }
   ],
   "source": [
    "attacks[attacks.duplicated()].head() #veo los primeros 5"
   ]
  },
  {
   "cell_type": "code",
   "execution_count": 6,
   "id": "66d89869",
   "metadata": {},
   "outputs": [],
   "source": [
    "attacks = attacks.drop_duplicates() #los borro"
   ]
  },
  {
   "cell_type": "code",
   "execution_count": 7,
   "id": "5bd47ae9",
   "metadata": {},
   "outputs": [
    {
     "data": {
      "text/plain": [
       "False"
      ]
     },
     "execution_count": 7,
     "metadata": {},
     "output_type": "execute_result"
    }
   ],
   "source": [
    "attacks.duplicated().any() #hay duplicados??"
   ]
  },
  {
   "cell_type": "code",
   "execution_count": 8,
   "id": "5268d677",
   "metadata": {},
   "outputs": [
    {
     "data": {
      "text/plain": [
       "(6312, 24)"
      ]
     },
     "execution_count": 8,
     "metadata": {},
     "output_type": "execute_result"
    }
   ],
   "source": [
    "attacks.shape #dimensiones actuales"
   ]
  },
  {
   "cell_type": "code",
   "execution_count": 9,
   "id": "c2e54414",
   "metadata": {},
   "outputs": [
    {
     "data": {
      "text/plain": [
       "Index(['Case Number', 'Date', 'Year', 'Type', 'Country', 'Area', 'Location',\n",
       "       'Activity', 'Name', 'Sex ', 'Age', 'Injury', 'Fatal (Y/N)', 'Time',\n",
       "       'Species ', 'Investigator or Source', 'pdf', 'href formula', 'href',\n",
       "       'Case Number.1', 'Case Number.2', 'original order', 'Unnamed: 22',\n",
       "       'Unnamed: 23'],\n",
       "      dtype='object')"
      ]
     },
     "execution_count": 9,
     "metadata": {},
     "output_type": "execute_result"
    }
   ],
   "source": [
    "attacks.columns #ver nombres de columnas"
   ]
  },
  {
   "cell_type": "code",
   "execution_count": 10,
   "id": "52335c4f",
   "metadata": {},
   "outputs": [],
   "source": [
    "attacks.columns = attacks.columns.str.strip() # Elimino los espacios en blanco de los nombres de las columnas"
   ]
  },
  {
   "cell_type": "code",
   "execution_count": 11,
   "id": "b3685388",
   "metadata": {},
   "outputs": [],
   "source": [
    "attacks.columns = attacks.columns.str.upper() # Convierto los nombres de las columnas a mayúsculas"
   ]
  },
  {
   "cell_type": "code",
   "execution_count": 12,
   "id": "864de3fc",
   "metadata": {},
   "outputs": [
    {
     "name": "stdout",
     "output_type": "stream",
     "text": [
      "Index(['CASE NUMBER', 'DATE', 'YEAR', 'TYPE', 'COUNTRY', 'AREA', 'LOCATION',\n",
      "       'ACTIVITY', 'NAME', 'SEX', 'AGE', 'INJURY', 'FATAL (Y/N)', 'TIME',\n",
      "       'SPECIES', 'INVESTIGATOR OR SOURCE', 'PDF', 'HREF FORMULA', 'HREF',\n",
      "       'CASE NUMBER.1', 'CASE NUMBER.2', 'ORIGINAL ORDER', 'UNNAMED: 22',\n",
      "       'UNNAMED: 23'],\n",
      "      dtype='object')\n"
     ]
    }
   ],
   "source": [
    "print(attacks.columns) #compruebo que quedaron como quería, en mayúsculas y sin espacios"
   ]
  },
  {
   "cell_type": "code",
   "execution_count": 13,
   "id": "9922d6c8",
   "metadata": {},
   "outputs": [
    {
     "name": "stdout",
     "output_type": "stream",
     "text": [
      "<class 'pandas.core.frame.DataFrame'>\n",
      "Int64Index: 6312 entries, 0 to 25722\n",
      "Data columns (total 24 columns):\n",
      " #   Column                  Non-Null Count  Dtype  \n",
      "---  ------                  --------------  -----  \n",
      " 0   CASE NUMBER             6310 non-null   object \n",
      " 1   DATE                    6302 non-null   object \n",
      " 2   YEAR                    6300 non-null   float64\n",
      " 3   TYPE                    6298 non-null   object \n",
      " 4   COUNTRY                 6252 non-null   object \n",
      " 5   AREA                    5847 non-null   object \n",
      " 6   LOCATION                5762 non-null   object \n",
      " 7   ACTIVITY                5758 non-null   object \n",
      " 8   NAME                    6092 non-null   object \n",
      " 9   SEX                     5737 non-null   object \n",
      " 10  AGE                     3471 non-null   object \n",
      " 11  INJURY                  6274 non-null   object \n",
      " 12  FATAL (Y/N)             5763 non-null   object \n",
      " 13  TIME                    2948 non-null   object \n",
      " 14  SPECIES                 3464 non-null   object \n",
      " 15  INVESTIGATOR OR SOURCE  6285 non-null   object \n",
      " 16  PDF                     6302 non-null   object \n",
      " 17  HREF FORMULA            6301 non-null   object \n",
      " 18  HREF                    6302 non-null   object \n",
      " 19  CASE NUMBER.1           6302 non-null   object \n",
      " 20  CASE NUMBER.2           6302 non-null   object \n",
      " 21  ORIGINAL ORDER          6309 non-null   float64\n",
      " 22  UNNAMED: 22             1 non-null      object \n",
      " 23  UNNAMED: 23             2 non-null      object \n",
      "dtypes: float64(2), object(22)\n",
      "memory usage: 9.4 MB\n"
     ]
    }
   ],
   "source": [
    "attacks.info(memory_usage='deep') #info del df"
   ]
  },
  {
   "cell_type": "code",
   "execution_count": 14,
   "id": "6f037df9",
   "metadata": {},
   "outputs": [
    {
     "data": {
      "text/plain": [
       "CASE NUMBER                  2\n",
       "ORIGINAL ORDER               3\n",
       "DATE                        10\n",
       "CASE NUMBER.2               10\n",
       "CASE NUMBER.1               10\n",
       "HREF                        10\n",
       "PDF                         10\n",
       "HREF FORMULA                11\n",
       "YEAR                        12\n",
       "TYPE                        14\n",
       "INVESTIGATOR OR SOURCE      27\n",
       "INJURY                      38\n",
       "COUNTRY                     60\n",
       "NAME                       220\n",
       "AREA                       465\n",
       "FATAL (Y/N)                549\n",
       "LOCATION                   550\n",
       "ACTIVITY                   554\n",
       "SEX                        575\n",
       "AGE                       2841\n",
       "SPECIES                   2848\n",
       "TIME                      3364\n",
       "UNNAMED: 23               6310\n",
       "UNNAMED: 22               6311\n",
       "dtype: int64"
      ]
     },
     "execution_count": 14,
     "metadata": {},
     "output_type": "execute_result"
    }
   ],
   "source": [
    "# columnas con valores nulos, ordenados de manera creciente. \n",
    "# Para ir dediciendo qué hacemos con cada valor nulo\n",
    "\n",
    "nan_cols = attacks.isna().sum()\n",
    "nan_cols[nan_cols>0].sort_values()"
   ]
  },
  {
   "cell_type": "code",
   "execution_count": 15,
   "id": "ba43c4bb",
   "metadata": {},
   "outputs": [],
   "source": [
    "# Reemplazar los valores nulos en las columnas unnamed con cero\n",
    "\n",
    "attacks[['UNNAMED: 22', 'UNNAMED: 23']] = attacks[['UNNAMED: 22', 'UNNAMED: 23']].fillna(0)"
   ]
  },
  {
   "cell_type": "code",
   "execution_count": 16,
   "id": "9d53be03",
   "metadata": {},
   "outputs": [],
   "source": [
    "# los valores nulos de las columnas name, age, species, y time los reemplzo por \"desconocido\" \n",
    "\n",
    "attacks[['TIME', 'SPECIES', 'AGE', 'NAME']] = attacks[['TIME', 'SPECIES', 'AGE', 'NAME']].fillna(\"desconocido\")"
   ]
  },
  {
   "cell_type": "code",
   "execution_count": 17,
   "id": "f104f0ba",
   "metadata": {},
   "outputs": [
    {
     "data": {
      "text/plain": [
       "CASE NUMBER                 2\n",
       "ORIGINAL ORDER              3\n",
       "CASE NUMBER.2              10\n",
       "PDF                        10\n",
       "HREF                       10\n",
       "CASE NUMBER.1              10\n",
       "DATE                       10\n",
       "HREF FORMULA               11\n",
       "YEAR                       12\n",
       "TYPE                       14\n",
       "INVESTIGATOR OR SOURCE     27\n",
       "INJURY                     38\n",
       "COUNTRY                    60\n",
       "AREA                      465\n",
       "FATAL (Y/N)               549\n",
       "LOCATION                  550\n",
       "ACTIVITY                  554\n",
       "SEX                       575\n",
       "dtype: int64"
      ]
     },
     "execution_count": 17,
     "metadata": {},
     "output_type": "execute_result"
    }
   ],
   "source": [
    "nan_cols = attacks.isna().sum()\n",
    "\n",
    "nan_cols[nan_cols>0].sort_values() #ya tengo menos nulos, sigo analizando qué hago con cada uno"
   ]
  },
  {
   "cell_type": "code",
   "execution_count": 18,
   "id": "27738578",
   "metadata": {},
   "outputs": [],
   "source": [
    "# como para mi objetivo, es definitivo el sexo de la persona atacada, \n",
    "# y el país donde ocurrió el ataque, las filas que tengan valores \n",
    "# nulos en estas columnas no me sirven, las borro. \n",
    "\n",
    "attacks.dropna(subset=['SEX', 'COUNTRY'], inplace=True)"
   ]
  },
  {
   "cell_type": "code",
   "execution_count": 19,
   "id": "61ac1c72",
   "metadata": {},
   "outputs": [],
   "source": [
    "# los valores nulos de las columnas area, actividad, y locación \n",
    "# los reemplzo por \"desconocido\" ya que no afectan al objetivo de mi analisis\n",
    "\n",
    "attacks[['AREA', 'ACTIVITY', 'LOCATION']] = attacks[['AREA', 'ACTIVITY', 'LOCATION']].fillna(\"desconocido\")"
   ]
  },
  {
   "cell_type": "code",
   "execution_count": 20,
   "id": "a49e965c",
   "metadata": {},
   "outputs": [
    {
     "data": {
      "text/plain": [
       "CASE NUMBER                 1\n",
       "HREF FORMULA                1\n",
       "YEAR                        2\n",
       "TYPE                        4\n",
       "INJURY                     12\n",
       "INVESTIGATOR OR SOURCE     15\n",
       "FATAL (Y/N)               457\n",
       "dtype: int64"
      ]
     },
     "execution_count": 20,
     "metadata": {},
     "output_type": "execute_result"
    }
   ],
   "source": [
    "nan_cols = attacks.isna().sum()\n",
    "\n",
    "nan_cols[nan_cols>0].sort_values() #cada vez menos nulos, me centro en FATAL Y/N"
   ]
  },
  {
   "cell_type": "code",
   "execution_count": 21,
   "id": "fd1d0f96",
   "metadata": {},
   "outputs": [
    {
     "data": {
      "text/html": [
       "<div>\n",
       "<style scoped>\n",
       "    .dataframe tbody tr th:only-of-type {\n",
       "        vertical-align: middle;\n",
       "    }\n",
       "\n",
       "    .dataframe tbody tr th {\n",
       "        vertical-align: top;\n",
       "    }\n",
       "\n",
       "    .dataframe thead th {\n",
       "        text-align: right;\n",
       "    }\n",
       "</style>\n",
       "<table border=\"1\" class=\"dataframe\">\n",
       "  <thead>\n",
       "    <tr style=\"text-align: right;\">\n",
       "      <th></th>\n",
       "      <th>CASE NUMBER</th>\n",
       "      <th>DATE</th>\n",
       "      <th>YEAR</th>\n",
       "      <th>TYPE</th>\n",
       "      <th>COUNTRY</th>\n",
       "      <th>AREA</th>\n",
       "      <th>LOCATION</th>\n",
       "      <th>ACTIVITY</th>\n",
       "      <th>NAME</th>\n",
       "      <th>SEX</th>\n",
       "      <th>AGE</th>\n",
       "      <th>INJURY</th>\n",
       "      <th>FATAL (Y/N)</th>\n",
       "      <th>TIME</th>\n",
       "      <th>SPECIES</th>\n",
       "      <th>INVESTIGATOR OR SOURCE</th>\n",
       "      <th>PDF</th>\n",
       "      <th>HREF FORMULA</th>\n",
       "      <th>HREF</th>\n",
       "      <th>CASE NUMBER.1</th>\n",
       "      <th>CASE NUMBER.2</th>\n",
       "      <th>ORIGINAL ORDER</th>\n",
       "      <th>UNNAMED: 22</th>\n",
       "      <th>UNNAMED: 23</th>\n",
       "    </tr>\n",
       "  </thead>\n",
       "  <tbody>\n",
       "    <tr>\n",
       "      <th>27</th>\n",
       "      <td>2018.04.15.c</td>\n",
       "      <td>15-Apr-2018</td>\n",
       "      <td>2018.0</td>\n",
       "      <td>Unprovoked</td>\n",
       "      <td>BRAZIL</td>\n",
       "      <td>Pernambuco</td>\n",
       "      <td>Piedade</td>\n",
       "      <td>Swimming</td>\n",
       "      <td>Pablo de Melo</td>\n",
       "      <td>M</td>\n",
       "      <td>34</td>\n",
       "      <td>Multiple severe injuries to arms and leg, leg ...</td>\n",
       "      <td>NaN</td>\n",
       "      <td>desconocido</td>\n",
       "      <td>desconocido</td>\n",
       "      <td>Globo, 4/16/2018</td>\n",
       "      <td>2018.04.15.c-deMelo.pdf</td>\n",
       "      <td>http://sharkattackfile.net/spreadsheets/pdf_di...</td>\n",
       "      <td>http://sharkattackfile.net/spreadsheets/pdf_di...</td>\n",
       "      <td>2018.04.15.c</td>\n",
       "      <td>2018.04.15.c</td>\n",
       "      <td>6276.0</td>\n",
       "      <td>0</td>\n",
       "      <td>0</td>\n",
       "    </tr>\n",
       "    <tr>\n",
       "      <th>76</th>\n",
       "      <td>2017.10.01</td>\n",
       "      <td>01-Oct-2017</td>\n",
       "      <td>2017.0</td>\n",
       "      <td>Invalid</td>\n",
       "      <td>SOUTH AFRICA</td>\n",
       "      <td>Western Cape Province</td>\n",
       "      <td>Dyer Island</td>\n",
       "      <td>Scuba Diving</td>\n",
       "      <td>Bradley Fick</td>\n",
       "      <td>M</td>\n",
       "      <td>31</td>\n",
       "      <td>FATAL</td>\n",
       "      <td>NaN</td>\n",
       "      <td>desconocido</td>\n",
       "      <td>Death may have been due to drowning</td>\n",
       "      <td>All Africa, 10/11/2017</td>\n",
       "      <td>2017.10.01-Fick.pdf</td>\n",
       "      <td>http://sharkattackfile.net/spreadsheets/pdf_di...</td>\n",
       "      <td>http://sharkattackfile.net/spreadsheets/pdf_di...</td>\n",
       "      <td>2017.10.01</td>\n",
       "      <td>2017.10.01</td>\n",
       "      <td>6227.0</td>\n",
       "      <td>0</td>\n",
       "      <td>0</td>\n",
       "    </tr>\n",
       "    <tr>\n",
       "      <th>79</th>\n",
       "      <td>2017.09.24.b</td>\n",
       "      <td>24-Sep-2017</td>\n",
       "      <td>2017.0</td>\n",
       "      <td>Invalid</td>\n",
       "      <td>USA</td>\n",
       "      <td>New York</td>\n",
       "      <td>Rockaway</td>\n",
       "      <td>Surfing</td>\n",
       "      <td>Michah Behrend</td>\n",
       "      <td>M</td>\n",
       "      <td>33</td>\n",
       "      <td>Lacerations to right ankle, foot &amp; toe</td>\n",
       "      <td>NaN</td>\n",
       "      <td>15h30</td>\n",
       "      <td>Questionable</td>\n",
       "      <td>S. Curatolo-Wageman, GSAF</td>\n",
       "      <td>2017.09.24.b-Behrend.pdf</td>\n",
       "      <td>http://sharkattackfile.net/spreadsheets/pdf_di...</td>\n",
       "      <td>http://sharkattackfile.net/spreadsheets/pdf_di...</td>\n",
       "      <td>2017.09.24.b</td>\n",
       "      <td>2017.09.24.b</td>\n",
       "      <td>6224.0</td>\n",
       "      <td>0</td>\n",
       "      <td>0</td>\n",
       "    </tr>\n",
       "    <tr>\n",
       "      <th>84</th>\n",
       "      <td>2017.09.15.b</td>\n",
       "      <td>15-Sep-2017</td>\n",
       "      <td>2017.0</td>\n",
       "      <td>Invalid</td>\n",
       "      <td>SOUTH AFRICA</td>\n",
       "      <td>Western Cape Province</td>\n",
       "      <td>Hawston</td>\n",
       "      <td>Scuba Diving</td>\n",
       "      <td>Wayon Love</td>\n",
       "      <td>M</td>\n",
       "      <td>25</td>\n",
       "      <td>FATAL, but death was probably due to drowning</td>\n",
       "      <td>NaN</td>\n",
       "      <td>Afternoon</td>\n",
       "      <td>desconocido</td>\n",
       "      <td>Ground Up, 9/20/2017</td>\n",
       "      <td>2017.09.15.b-Love.pdf</td>\n",
       "      <td>http://sharkattackfile.net/spreadsheets/pdf_di...</td>\n",
       "      <td>http://sharkattackfile.net/spreadsheets/pdf_di...</td>\n",
       "      <td>2017.09.15.b</td>\n",
       "      <td>2017.09.15.b</td>\n",
       "      <td>6219.0</td>\n",
       "      <td>0</td>\n",
       "      <td>0</td>\n",
       "    </tr>\n",
       "    <tr>\n",
       "      <th>98</th>\n",
       "      <td>2017.08.26.b</td>\n",
       "      <td>26-Aug-2017</td>\n",
       "      <td>2017.0</td>\n",
       "      <td>Invalid</td>\n",
       "      <td>SPAIN</td>\n",
       "      <td>Castellón</td>\n",
       "      <td>Grao de Moncofa</td>\n",
       "      <td>Swimming</td>\n",
       "      <td>female</td>\n",
       "      <td>F</td>\n",
       "      <td>11</td>\n",
       "      <td>Lacerations to left foot</td>\n",
       "      <td>NaN</td>\n",
       "      <td>Midday</td>\n",
       "      <td>Shark involvement questionable</td>\n",
       "      <td>El Periodico Mediterraneo, 8/27/2017</td>\n",
       "      <td>2017.08.26.b-Spain.pdf</td>\n",
       "      <td>http://sharkattackfile.net/spreadsheets/pdf_di...</td>\n",
       "      <td>http://sharkattackfile.net/spreadsheets/pdf_di...</td>\n",
       "      <td>2017.08.26.b</td>\n",
       "      <td>2017.08.26.b</td>\n",
       "      <td>6205.0</td>\n",
       "      <td>0</td>\n",
       "      <td>0</td>\n",
       "    </tr>\n",
       "  </tbody>\n",
       "</table>\n",
       "</div>"
      ],
      "text/plain": [
       "     CASE NUMBER         DATE    YEAR        TYPE       COUNTRY  \\\n",
       "27  2018.04.15.c  15-Apr-2018  2018.0  Unprovoked        BRAZIL   \n",
       "76    2017.10.01  01-Oct-2017  2017.0     Invalid  SOUTH AFRICA   \n",
       "79  2017.09.24.b  24-Sep-2017  2017.0     Invalid           USA   \n",
       "84  2017.09.15.b  15-Sep-2017  2017.0     Invalid  SOUTH AFRICA   \n",
       "98  2017.08.26.b  26-Aug-2017  2017.0     Invalid         SPAIN   \n",
       "\n",
       "                     AREA         LOCATION      ACTIVITY            NAME SEX  \\\n",
       "27             Pernambuco          Piedade      Swimming   Pablo de Melo   M   \n",
       "76  Western Cape Province      Dyer Island  Scuba Diving    Bradley Fick   M   \n",
       "79               New York         Rockaway       Surfing  Michah Behrend   M   \n",
       "84  Western Cape Province          Hawston  Scuba Diving      Wayon Love   M   \n",
       "98              Castellón  Grao de Moncofa      Swimming          female   F   \n",
       "\n",
       "   AGE                                             INJURY FATAL (Y/N)  \\\n",
       "27  34  Multiple severe injuries to arms and leg, leg ...         NaN   \n",
       "76  31                                              FATAL         NaN   \n",
       "79  33             Lacerations to right ankle, foot & toe         NaN   \n",
       "84  25      FATAL, but death was probably due to drowning         NaN   \n",
       "98  11                           Lacerations to left foot         NaN   \n",
       "\n",
       "           TIME                              SPECIES  \\\n",
       "27  desconocido                          desconocido   \n",
       "76  desconocido  Death may have been due to drowning   \n",
       "79        15h30                         Questionable   \n",
       "84    Afternoon                          desconocido   \n",
       "98       Midday       Shark involvement questionable   \n",
       "\n",
       "                  INVESTIGATOR OR SOURCE                       PDF  \\\n",
       "27                      Globo, 4/16/2018   2018.04.15.c-deMelo.pdf   \n",
       "76               All Africa, 10/11/2017        2017.10.01-Fick.pdf   \n",
       "79             S. Curatolo-Wageman, GSAF  2017.09.24.b-Behrend.pdf   \n",
       "84                  Ground Up, 9/20/2017     2017.09.15.b-Love.pdf   \n",
       "98  El Periodico Mediterraneo, 8/27/2017    2017.08.26.b-Spain.pdf   \n",
       "\n",
       "                                         HREF FORMULA  \\\n",
       "27  http://sharkattackfile.net/spreadsheets/pdf_di...   \n",
       "76  http://sharkattackfile.net/spreadsheets/pdf_di...   \n",
       "79  http://sharkattackfile.net/spreadsheets/pdf_di...   \n",
       "84  http://sharkattackfile.net/spreadsheets/pdf_di...   \n",
       "98  http://sharkattackfile.net/spreadsheets/pdf_di...   \n",
       "\n",
       "                                                 HREF CASE NUMBER.1  \\\n",
       "27  http://sharkattackfile.net/spreadsheets/pdf_di...  2018.04.15.c   \n",
       "76  http://sharkattackfile.net/spreadsheets/pdf_di...    2017.10.01   \n",
       "79  http://sharkattackfile.net/spreadsheets/pdf_di...  2017.09.24.b   \n",
       "84  http://sharkattackfile.net/spreadsheets/pdf_di...  2017.09.15.b   \n",
       "98  http://sharkattackfile.net/spreadsheets/pdf_di...  2017.08.26.b   \n",
       "\n",
       "   CASE NUMBER.2  ORIGINAL ORDER UNNAMED: 22 UNNAMED: 23  \n",
       "27  2018.04.15.c          6276.0           0           0  \n",
       "76    2017.10.01          6227.0           0           0  \n",
       "79  2017.09.24.b          6224.0           0           0  \n",
       "84  2017.09.15.b          6219.0           0           0  \n",
       "98  2017.08.26.b          6205.0           0           0  "
      ]
     },
     "execution_count": 21,
     "metadata": {},
     "output_type": "execute_result"
    }
   ],
   "source": [
    "attacks[attacks['FATAL (Y/N)'].isnull()].head()       # explorar la columna fatal Y/N"
   ]
  },
  {
   "cell_type": "code",
   "execution_count": 22,
   "id": "760a5947",
   "metadata": {},
   "outputs": [],
   "source": [
    "# Reemplazar los valores nulos en \"FATAL (Y/N)\" con \"Y\" si \"INJURY\" contiene \"fatal,\" \"FATAL,\" o \"Fatal\"\n",
    "\n",
    "attacks.loc[attacks['INJURY'].str.contains('fatal', case=False, na=False), 'FATAL (Y/N)'] = 'Y'"
   ]
  },
  {
   "cell_type": "code",
   "execution_count": 23,
   "id": "264605d4",
   "metadata": {},
   "outputs": [
    {
     "data": {
      "text/html": [
       "<div>\n",
       "<style scoped>\n",
       "    .dataframe tbody tr th:only-of-type {\n",
       "        vertical-align: middle;\n",
       "    }\n",
       "\n",
       "    .dataframe tbody tr th {\n",
       "        vertical-align: top;\n",
       "    }\n",
       "\n",
       "    .dataframe thead th {\n",
       "        text-align: right;\n",
       "    }\n",
       "</style>\n",
       "<table border=\"1\" class=\"dataframe\">\n",
       "  <thead>\n",
       "    <tr style=\"text-align: right;\">\n",
       "      <th></th>\n",
       "      <th>CASE NUMBER</th>\n",
       "      <th>DATE</th>\n",
       "      <th>YEAR</th>\n",
       "      <th>TYPE</th>\n",
       "      <th>COUNTRY</th>\n",
       "      <th>AREA</th>\n",
       "      <th>LOCATION</th>\n",
       "      <th>ACTIVITY</th>\n",
       "      <th>NAME</th>\n",
       "      <th>SEX</th>\n",
       "      <th>AGE</th>\n",
       "      <th>INJURY</th>\n",
       "      <th>FATAL (Y/N)</th>\n",
       "      <th>TIME</th>\n",
       "      <th>SPECIES</th>\n",
       "      <th>INVESTIGATOR OR SOURCE</th>\n",
       "      <th>PDF</th>\n",
       "      <th>HREF FORMULA</th>\n",
       "      <th>HREF</th>\n",
       "      <th>CASE NUMBER.1</th>\n",
       "      <th>CASE NUMBER.2</th>\n",
       "      <th>ORIGINAL ORDER</th>\n",
       "      <th>UNNAMED: 22</th>\n",
       "      <th>UNNAMED: 23</th>\n",
       "    </tr>\n",
       "  </thead>\n",
       "  <tbody>\n",
       "    <tr>\n",
       "      <th>0</th>\n",
       "      <td>2018.06.25</td>\n",
       "      <td>25-Jun-2018</td>\n",
       "      <td>2018.0</td>\n",
       "      <td>Boating</td>\n",
       "      <td>USA</td>\n",
       "      <td>California</td>\n",
       "      <td>Oceanside, San Diego County</td>\n",
       "      <td>Paddling</td>\n",
       "      <td>Julie Wolfe</td>\n",
       "      <td>F</td>\n",
       "      <td>57</td>\n",
       "      <td>No injury to occupant, outrigger canoe and pad...</td>\n",
       "      <td>N</td>\n",
       "      <td>18h00</td>\n",
       "      <td>White shark</td>\n",
       "      <td>R. Collier, GSAF</td>\n",
       "      <td>2018.06.25-Wolfe.pdf</td>\n",
       "      <td>http://sharkattackfile.net/spreadsheets/pdf_di...</td>\n",
       "      <td>http://sharkattackfile.net/spreadsheets/pdf_di...</td>\n",
       "      <td>2018.06.25</td>\n",
       "      <td>2018.06.25</td>\n",
       "      <td>6303.0</td>\n",
       "      <td>0</td>\n",
       "      <td>0</td>\n",
       "    </tr>\n",
       "    <tr>\n",
       "      <th>5</th>\n",
       "      <td>2018.06.03.b</td>\n",
       "      <td>03-Jun-2018</td>\n",
       "      <td>2018.0</td>\n",
       "      <td>Unprovoked</td>\n",
       "      <td>AUSTRALIA</td>\n",
       "      <td>New South Wales</td>\n",
       "      <td>Flat Rock, Ballina</td>\n",
       "      <td>Kite surfing</td>\n",
       "      <td>Chris</td>\n",
       "      <td>M</td>\n",
       "      <td>desconocido</td>\n",
       "      <td>No injury, board bitten</td>\n",
       "      <td>N</td>\n",
       "      <td>desconocido</td>\n",
       "      <td>desconocido</td>\n",
       "      <td>Daily Telegraph, 6/4/2018</td>\n",
       "      <td>2018.06.03.b-FlatRock.pdf</td>\n",
       "      <td>http://sharkattackfile.net/spreadsheets/pdf_di...</td>\n",
       "      <td>http://sharkattackfile.net/spreadsheets/pdf_di...</td>\n",
       "      <td>2018.06.03.b</td>\n",
       "      <td>2018.06.03.b</td>\n",
       "      <td>6298.0</td>\n",
       "      <td>0</td>\n",
       "      <td>0</td>\n",
       "    </tr>\n",
       "    <tr>\n",
       "      <th>16</th>\n",
       "      <td>2018.05.09</td>\n",
       "      <td>09-May-2018</td>\n",
       "      <td>2018.0</td>\n",
       "      <td>Questionable</td>\n",
       "      <td>AUSTRALIA</td>\n",
       "      <td>New South Wales</td>\n",
       "      <td>Sharpes Beach, Ballina</td>\n",
       "      <td>Surfing</td>\n",
       "      <td>male</td>\n",
       "      <td>M</td>\n",
       "      <td>desconocido</td>\n",
       "      <td>No injury, surfboard damaged</td>\n",
       "      <td>N</td>\n",
       "      <td>10h30</td>\n",
       "      <td>Shark involvement not confirmed</td>\n",
       "      <td>B. Myatt, GSAF</td>\n",
       "      <td>2018.05.09-SharpesBeach.pdf</td>\n",
       "      <td>http://sharkattackfile.net/spreadsheets/pdf_di...</td>\n",
       "      <td>http://sharkattackfile.net/spreadsheets/pdf_di...</td>\n",
       "      <td>2018.05.09</td>\n",
       "      <td>2018.05.09</td>\n",
       "      <td>6287.0</td>\n",
       "      <td>0</td>\n",
       "      <td>0</td>\n",
       "    </tr>\n",
       "    <tr>\n",
       "      <th>18</th>\n",
       "      <td>2018.04.28.b</td>\n",
       "      <td>28-Apr-2018</td>\n",
       "      <td>2018.0</td>\n",
       "      <td>Unprovoked</td>\n",
       "      <td>COSTA RICA</td>\n",
       "      <td>Cocos Island</td>\n",
       "      <td>Manuelita</td>\n",
       "      <td>Scuba diving</td>\n",
       "      <td>male</td>\n",
       "      <td>M</td>\n",
       "      <td>30</td>\n",
       "      <td>No injury, shark bit scuba gear</td>\n",
       "      <td>N</td>\n",
       "      <td>10h40</td>\n",
       "      <td>Tiger shark</td>\n",
       "      <td>Costa Rica Star. 4/28/2018</td>\n",
       "      <td>2018.04.28.b-CostaRica.pdf</td>\n",
       "      <td>http://sharkattackfile.net/spreadsheets/pdf_di...</td>\n",
       "      <td>http://sharkattackfile.net/spreadsheets/pdf_di...</td>\n",
       "      <td>2018.04.28.b</td>\n",
       "      <td>2018.04.28.b</td>\n",
       "      <td>6285.0</td>\n",
       "      <td>0</td>\n",
       "      <td>0</td>\n",
       "    </tr>\n",
       "    <tr>\n",
       "      <th>19</th>\n",
       "      <td>2018.04.28.a</td>\n",
       "      <td>28-Apr-2018</td>\n",
       "      <td>2018.0</td>\n",
       "      <td>Unprovoked</td>\n",
       "      <td>AUSTRALIA</td>\n",
       "      <td>Western Australia</td>\n",
       "      <td>Gearys Beach</td>\n",
       "      <td>Surfing</td>\n",
       "      <td>Adam Murray</td>\n",
       "      <td>M</td>\n",
       "      <td>desconocido</td>\n",
       "      <td>No injury, knocked off board by shark</td>\n",
       "      <td>N</td>\n",
       "      <td>16h50</td>\n",
       "      <td>desconocido</td>\n",
       "      <td>B. Myatt, GSAF</td>\n",
       "      <td>2018.04.28.a-Murray.pdf</td>\n",
       "      <td>http://sharkattackfile.net/spreadsheets/pdf_di...</td>\n",
       "      <td>http://sharkattackfile.net/spreadsheets/pdf_di...</td>\n",
       "      <td>2018.04.28.a</td>\n",
       "      <td>2018.04.28.a</td>\n",
       "      <td>6284.0</td>\n",
       "      <td>0</td>\n",
       "      <td>0</td>\n",
       "    </tr>\n",
       "  </tbody>\n",
       "</table>\n",
       "</div>"
      ],
      "text/plain": [
       "     CASE NUMBER         DATE    YEAR          TYPE     COUNTRY  \\\n",
       "0     2018.06.25  25-Jun-2018  2018.0       Boating         USA   \n",
       "5   2018.06.03.b  03-Jun-2018  2018.0    Unprovoked   AUSTRALIA   \n",
       "16    2018.05.09  09-May-2018  2018.0  Questionable   AUSTRALIA   \n",
       "18  2018.04.28.b  28-Apr-2018  2018.0    Unprovoked  COSTA RICA   \n",
       "19  2018.04.28.a  28-Apr-2018  2018.0    Unprovoked   AUSTRALIA   \n",
       "\n",
       "                 AREA                     LOCATION      ACTIVITY         NAME  \\\n",
       "0          California  Oceanside, San Diego County      Paddling  Julie Wolfe   \n",
       "5     New South Wales           Flat Rock, Ballina  Kite surfing      Chris \n",
       "   \n",
       "16    New South Wales       Sharpes Beach, Ballina       Surfing         male   \n",
       "18       Cocos Island                    Manuelita  Scuba diving         male   \n",
       "19  Western Australia                 Gearys Beach       Surfing  Adam Murray   \n",
       "\n",
       "   SEX          AGE                                             INJURY  \\\n",
       "0    F           57  No injury to occupant, outrigger canoe and pad...   \n",
       "5    M  desconocido                            No injury, board bitten   \n",
       "16   M  desconocido                       No injury, surfboard damaged   \n",
       "18   M           30                    No injury, shark bit scuba gear   \n",
       "19   M  desconocido              No injury, knocked off board by shark   \n",
       "\n",
       "   FATAL (Y/N)         TIME                          SPECIES  \\\n",
       "0            N        18h00                      White shark   \n",
       "5            N  desconocido                      desconocido   \n",
       "16           N        10h30  Shark involvement not confirmed   \n",
       "18           N        10h40                      Tiger shark   \n",
       "19           N        16h50                      desconocido   \n",
       "\n",
       "        INVESTIGATOR OR SOURCE                          PDF  \\\n",
       "0             R. Collier, GSAF         2018.06.25-Wolfe.pdf   \n",
       "5    Daily Telegraph, 6/4/2018    2018.06.03.b-FlatRock.pdf   \n",
       "16              B. Myatt, GSAF  2018.05.09-SharpesBeach.pdf   \n",
       "18  Costa Rica Star. 4/28/2018   2018.04.28.b-CostaRica.pdf   \n",
       "19              B. Myatt, GSAF      2018.04.28.a-Murray.pdf   \n",
       "\n",
       "                                         HREF FORMULA  \\\n",
       "0   http://sharkattackfile.net/spreadsheets/pdf_di...   \n",
       "5   http://sharkattackfile.net/spreadsheets/pdf_di...   \n",
       "16  http://sharkattackfile.net/spreadsheets/pdf_di...   \n",
       "18  http://sharkattackfile.net/spreadsheets/pdf_di...   \n",
       "19  http://sharkattackfile.net/spreadsheets/pdf_di...   \n",
       "\n",
       "                                                 HREF CASE NUMBER.1  \\\n",
       "0   http://sharkattackfile.net/spreadsheets/pdf_di...    2018.06.25   \n",
       "5   http://sharkattackfile.net/spreadsheets/pdf_di...  2018.06.03.b   \n",
       "16  http://sharkattackfile.net/spreadsheets/pdf_di...    2018.05.09   \n",
       "18  http://sharkattackfile.net/spreadsheets/pdf_di...  2018.04.28.b   \n",
       "19  http://sharkattackfile.net/spreadsheets/pdf_di...  2018.04.28.a   \n",
       "\n",
       "   CASE NUMBER.2  ORIGINAL ORDER UNNAMED: 22 UNNAMED: 23  \n",
       "0     2018.06.25          6303.0           0           0  \n",
       "5   2018.06.03.b          6298.0           0           0  \n",
       "16    2018.05.09          6287.0           0           0  \n",
       "18  2018.04.28.b          6285.0           0           0  \n",
       "19  2018.04.28.a          6284.0           0           0  "
      ]
     },
     "execution_count": 23,
     "metadata": {},
     "output_type": "execute_result"
    }
   ],
   "source": [
    "# Filtrar el DataFrame para ver las filas donde \"INJURY\" contiene \"no injury\" (sin importar mayúsculas o minúsculas)\n",
    "\n",
    "attacks[attacks['INJURY'].str.contains('no injury', case=False, na=False)].head()"
   ]
  },
  {
   "cell_type": "code",
   "execution_count": 24,
   "id": "b5bd877b",
   "metadata": {},
   "outputs": [],
   "source": [
    "condition = attacks['INJURY'].str.contains('no injury', case=False, na=False) # Crear una condición para seleccionar las filas adecuadas\n",
    "\n",
    "attacks.loc[condition, 'FATAL (Y/N)'] = 'N' # Rellenar los valores nulos en \"FATAL (Y/N)\" con \"N\" donde se cumple la condición"
   ]
  },
  {
   "cell_type": "code",
   "execution_count": 25,
   "id": "c8b77de0",
   "metadata": {
    "scrolled": true
   },
   "outputs": [
    {
     "data": {
      "text/plain": [
       "CASE NUMBER                 1\n",
       "HREF FORMULA                1\n",
       "YEAR                        2\n",
       "TYPE                        4\n",
       "INJURY                     12\n",
       "INVESTIGATOR OR SOURCE     15\n",
       "FATAL (Y/N)               336\n",
       "dtype: int64"
      ]
     },
     "execution_count": 25,
     "metadata": {},
     "output_type": "execute_result"
    }
   ],
   "source": [
    "nan_cols = attacks.isna().sum()\n",
    "\n",
    "nan_cols[nan_cols>0].sort_values() #Ahora solo tengo 336 nulos en fatal. Estos 336 ataques los elimino"
   ]
  },
  {
   "cell_type": "code",
   "execution_count": 26,
   "id": "3968fd44",
   "metadata": {},
   "outputs": [],
   "source": [
    "attacks.dropna(subset=['FATAL (Y/N)'], inplace=True)"
   ]
  },
  {
   "cell_type": "code",
   "execution_count": 27,
   "id": "228694cf",
   "metadata": {},
   "outputs": [
    {
     "data": {
      "text/plain": [
       "CASE NUMBER                1\n",
       "YEAR                       1\n",
       "HREF FORMULA               1\n",
       "TYPE                       3\n",
       "INJURY                    10\n",
       "INVESTIGATOR OR SOURCE    11\n",
       "dtype: int64"
      ]
     },
     "execution_count": 27,
     "metadata": {},
     "output_type": "execute_result"
    }
   ],
   "source": [
    "nan_cols = attacks.isna().sum()\n",
    "\n",
    "nan_cols[nan_cols>0].sort_values() #me quedan pocos nulos, "
   ]
  },
  {
   "cell_type": "code",
   "execution_count": 28,
   "id": "404f87d2",
   "metadata": {},
   "outputs": [],
   "source": [
    "nulls = nan_cols[nan_cols > 0].index.tolist()\n",
    "attacks = attacks.dropna(subset=nulls)             #como no son representativos en mi muestra, los elimino           "
   ]
  },
  {
   "cell_type": "code",
   "execution_count": 29,
   "id": "18c11bc8",
   "metadata": {},
   "outputs": [
    {
     "data": {
      "text/plain": [
       "Series([], dtype: int64)"
      ]
     },
     "execution_count": 29,
     "metadata": {},
     "output_type": "execute_result"
    }
   ],
   "source": [
    "nan_cols = attacks.isna().sum()\n",
    "\n",
    "nan_cols[nan_cols>0].sort_values()   #ya no tengo nulos!"
   ]
  },
  {
   "cell_type": "code",
   "execution_count": 30,
   "id": "2c37f36f",
   "metadata": {},
   "outputs": [
    {
     "data": {
      "text/plain": [
       "False"
      ]
     },
     "execution_count": 30,
     "metadata": {},
     "output_type": "execute_result"
    }
   ],
   "source": [
    "attacks.duplicated().any() #por las dudas, como estuve modificando cosas, chequeo nuevamente duplicados"
   ]
  },
  {
   "cell_type": "code",
   "execution_count": 31,
   "id": "4cb9c342",
   "metadata": {},
   "outputs": [
    {
     "data": {
      "text/plain": [
       "(5329, 24)"
      ]
     },
     "execution_count": 31,
     "metadata": {},
     "output_type": "execute_result"
    }
   ],
   "source": [
    "attacks.shape  #dimensiones actuales de mi dataframe"
   ]
  },
  {
   "cell_type": "code",
   "execution_count": 32,
   "id": "41959d39",
   "metadata": {},
   "outputs": [
    {
     "data": {
      "text/plain": [
       "((25723, 24), (5329, 24))"
      ]
     },
     "execution_count": 32,
     "metadata": {},
     "output_type": "execute_result"
    }
   ],
   "source": [
    "attacks_ori.shape, attacks.shape"
   ]
  },
  {
   "cell_type": "markdown",
   "id": "fc6b391b",
   "metadata": {},
   "source": [
    "# Hasta acá la limpieza inicial de los datos (nombres de columnas y valores nulos)"
   ]
  },
  {
   "cell_type": "code",
   "execution_count": 33,
   "id": "a30f8f26",
   "metadata": {},
   "outputs": [],
   "source": [
    "# En principio voy a limpiar más profundamente las columnas en las que se centra mi objetivo: SEX, FATAL, y COUNTRY"
   ]
  },
  {
   "cell_type": "code",
   "execution_count": 34,
   "id": "c281e3d4",
   "metadata": {},
   "outputs": [
    {
     "data": {
      "text/plain": [
       "array(['F', 'M', 'M ', 'lli', 'N', '.'], dtype=object)"
      ]
     },
     "execution_count": 34,
     "metadata": {},
     "output_type": "execute_result"
    }
   ],
   "source": [
    "attacks['SEX'].unique() #comienzo con la exploracion y limpieza de columna SEX"
   ]
  },
  {
   "cell_type": "code",
   "execution_count": 35,
   "id": "33fa2d09",
   "metadata": {},
   "outputs": [],
   "source": [
    "attacks['SEX'] = attacks['SEX'].str.strip()     # Elimino los espacios en blanco de los nombres de las columnas"
   ]
  },
  {
   "cell_type": "code",
   "execution_count": 36,
   "id": "d335d4cd",
   "metadata": {},
   "outputs": [
    {
     "data": {
      "text/plain": [
       "M      4746\n",
       "F       580\n",
       "lli       1\n",
       "N         1\n",
       ".         1\n",
       "Name: SEX, dtype: int64"
      ]
     },
     "execution_count": 36,
     "metadata": {},
     "output_type": "execute_result"
    }
   ],
   "source": [
    "attacks['SEX'].value_counts() #esos 3 registros se van"
   ]
  },
  {
   "cell_type": "code",
   "execution_count": 37,
   "id": "6c46e1df",
   "metadata": {},
   "outputs": [],
   "source": [
    "attacks = attacks[attacks['SEX'] != 'lli']"
   ]
  },
  {
   "cell_type": "code",
   "execution_count": 38,
   "id": "4336cfcc",
   "metadata": {},
   "outputs": [],
   "source": [
    "attacks = attacks[attacks['SEX'] != 'N']"
   ]
  },
  {
   "cell_type": "code",
   "execution_count": 39,
   "id": "4e74835a",
   "metadata": {},
   "outputs": [],
   "source": [
    "attacks = attacks[attacks['SEX'] != '.']"
   ]
  },
  {
   "cell_type": "code",
   "execution_count": 40,
   "id": "3c2602ff",
   "metadata": {},
   "outputs": [
    {
     "data": {
      "text/plain": [
       "M    4746\n",
       "F     580\n",
       "Name: SEX, dtype: int64"
      ]
     },
     "execution_count": 40,
     "metadata": {},
     "output_type": "execute_result"
    }
   ],
   "source": [
    "attacks['SEX'].value_counts() #listo, solo masculino o femenino"
   ]
  },
  {
   "cell_type": "code",
   "execution_count": 41,
   "id": "a627bf26",
   "metadata": {},
   "outputs": [
    {
     "data": {
      "text/plain": [
       "N          3988\n",
       "Y          1302\n",
       "UNKNOWN      27\n",
       " N            7\n",
       "M             1\n",
       "2017          1\n",
       "Name: FATAL (Y/N), dtype: int64"
      ]
     },
     "execution_count": 41,
     "metadata": {},
     "output_type": "execute_result"
    }
   ],
   "source": [
    "attacks['FATAL (Y/N)'].value_counts()  #comienzo con la exploracion y limpieza de columna FATAL"
   ]
  },
  {
   "cell_type": "code",
   "execution_count": 42,
   "id": "85dabb1a",
   "metadata": {},
   "outputs": [],
   "source": [
    "attacks['FATAL (Y/N)'] = attacks['FATAL (Y/N)'].str.strip()  # Elimino espacios en blanco de la \" N\""
   ]
  },
  {
   "cell_type": "code",
   "execution_count": 43,
   "id": "1f730a4b",
   "metadata": {},
   "outputs": [
    {
     "data": {
      "text/plain": [
       "N          3995\n",
       "Y          1302\n",
       "UNKNOWN      27\n",
       "M             1\n",
       "2017          1\n",
       "Name: FATAL (Y/N), dtype: int64"
      ]
     },
     "execution_count": 43,
     "metadata": {},
     "output_type": "execute_result"
    }
   ],
   "source": [
    "attacks['FATAL (Y/N)'].value_counts()  #los 7 anteriores se sumaron a \"N\""
   ]
  },
  {
   "cell_type": "code",
   "execution_count": 44,
   "id": "336ab41b",
   "metadata": {},
   "outputs": [],
   "source": [
    "#Quiero ver los unknown a ver si con la columna \"injury\" puedo deducir algo\n",
    "#Como son solo 27, miro uno por uno. \n",
    "#No obtengo info fiable de las otras filas para poder sobreescribir el \"unknown\""
   ]
  },
  {
   "cell_type": "code",
   "execution_count": 45,
   "id": "8f9d202b",
   "metadata": {},
   "outputs": [
    {
     "data": {
      "text/html": [
       "<div>\n",
       "<style scoped>\n",
       "    .dataframe tbody tr th:only-of-type {\n",
       "        vertical-align: middle;\n",
       "    }\n",
       "\n",
       "    .dataframe tbody tr th {\n",
       "        vertical-align: top;\n",
       "    }\n",
       "\n",
       "    .dataframe thead th {\n",
       "        text-align: right;\n",
       "    }\n",
       "</style>\n",
       "<table border=\"1\" class=\"dataframe\">\n",
       "  <thead>\n",
       "    <tr style=\"text-align: right;\">\n",
       "      <th></th>\n",
       "      <th>CASE NUMBER</th>\n",
       "      <th>DATE</th>\n",
       "      <th>YEAR</th>\n",
       "      <th>TYPE</th>\n",
       "      <th>COUNTRY</th>\n",
       "      <th>AREA</th>\n",
       "      <th>LOCATION</th>\n",
       "      <th>ACTIVITY</th>\n",
       "      <th>NAME</th>\n",
       "      <th>SEX</th>\n",
       "      <th>AGE</th>\n",
       "      <th>INJURY</th>\n",
       "      <th>FATAL (Y/N)</th>\n",
       "      <th>TIME</th>\n",
       "      <th>SPECIES</th>\n",
       "      <th>INVESTIGATOR OR SOURCE</th>\n",
       "      <th>PDF</th>\n",
       "      <th>HREF FORMULA</th>\n",
       "      <th>HREF</th>\n",
       "      <th>CASE NUMBER.1</th>\n",
       "      <th>CASE NUMBER.2</th>\n",
       "      <th>ORIGINAL ORDER</th>\n",
       "      <th>UNNAMED: 22</th>\n",
       "      <th>UNNAMED: 23</th>\n",
       "    </tr>\n",
       "  </thead>\n",
       "  <tbody>\n",
       "    <tr>\n",
       "      <th>624</th>\n",
       "      <td>2013.09.08</td>\n",
       "      <td>08-Sep-2013</td>\n",
       "      <td>2013.0</td>\n",
       "      <td>Unprovoked</td>\n",
       "      <td>USA</td>\n",
       "      <td>South Carolina</td>\n",
       "      <td>St. Helena Island, Beaufort County</td>\n",
       "      <td>desconocido</td>\n",
       "      <td>female</td>\n",
       "      <td>F</td>\n",
       "      <td>desconocido</td>\n",
       "      <td>No details</td>\n",
       "      <td>UNKNOWN</td>\n",
       "      <td>desconocido</td>\n",
       "      <td>desconocido</td>\n",
       "      <td>WIS-TV, 9/9/2013</td>\n",
       "      <td>2013.09.08-St-Helena.pdf</td>\n",
       "      <td>http://sharkattackfile.net/spreadsheets/pdf_di...</td>\n",
       "      <td>http://sharkattackfile.net/spreadsheets/pdf_di...</td>\n",
       "      <td>2013.09.08</td>\n",
       "      <td>2013.09.08</td>\n",
       "      <td>5679.0</td>\n",
       "      <td>0</td>\n",
       "      <td>0</td>\n",
       "    </tr>\n",
       "    <tr>\n",
       "      <th>2260</th>\n",
       "      <td>1997.02.21</td>\n",
       "      <td>21-Feb-1997</td>\n",
       "      <td>1997.0</td>\n",
       "      <td>Unprovoked</td>\n",
       "      <td>USA</td>\n",
       "      <td>Hawaii</td>\n",
       "      <td>Sunset Beach, O'ahu</td>\n",
       "      <td>desconocido</td>\n",
       "      <td>Gersome Perreno</td>\n",
       "      <td>M</td>\n",
       "      <td>desconocido</td>\n",
       "      <td>No details</td>\n",
       "      <td>UNKNOWN</td>\n",
       "      <td>desconocido</td>\n",
       "      <td>desconocido</td>\n",
       "      <td>G. Balazs</td>\n",
       "      <td>1997.02.21-NV-Perreno.pdf</td>\n",
       "      <td>http://sharkattackfile.net/spreadsheets/pdf_di...</td>\n",
       "      <td>http://sharkattackfile.net/spreadsheets/pdf_di...</td>\n",
       "      <td>1997.02.21</td>\n",
       "      <td>1997.02.21</td>\n",
       "      <td>4043.0</td>\n",
       "      <td>0</td>\n",
       "      <td>0</td>\n",
       "    </tr>\n",
       "    <tr>\n",
       "      <th>2307</th>\n",
       "      <td>1996.04.28.b</td>\n",
       "      <td>28-Apr-1996</td>\n",
       "      <td>1996.0</td>\n",
       "      <td>Unprovoked</td>\n",
       "      <td>USA</td>\n",
       "      <td>Hawaii</td>\n",
       "      <td>La'ie Point, O'ahu</td>\n",
       "      <td>desconocido</td>\n",
       "      <td>Wayne Leong</td>\n",
       "      <td>M</td>\n",
       "      <td>desconocido</td>\n",
       "      <td>No details</td>\n",
       "      <td>UNKNOWN</td>\n",
       "      <td>desconocido</td>\n",
       "      <td>desconocido</td>\n",
       "      <td>G. Balazs</td>\n",
       "      <td>1996.04.28.b-Leong.pdf</td>\n",
       "      <td>http://sharkattackfile.net/spreadsheets/pdf_di...</td>\n",
       "      <td>http://sharkattackfile.net/spreadsheets/pdf_di...</td>\n",
       "      <td>1996.04.28.b</td>\n",
       "      <td>1996.04.28.b</td>\n",
       "      <td>3996.0</td>\n",
       "      <td>0</td>\n",
       "      <td>0</td>\n",
       "    </tr>\n",
       "    <tr>\n",
       "      <th>2328</th>\n",
       "      <td>1995.12.18</td>\n",
       "      <td>18-Dec-1995</td>\n",
       "      <td>1995.0</td>\n",
       "      <td>Unprovoked</td>\n",
       "      <td>USA</td>\n",
       "      <td>Hawaii</td>\n",
       "      <td>Southwest of O'ahu</td>\n",
       "      <td>desconocido</td>\n",
       "      <td>Carlton Taniyama</td>\n",
       "      <td>M</td>\n",
       "      <td>desconocido</td>\n",
       "      <td>No details</td>\n",
       "      <td>UNKNOWN</td>\n",
       "      <td>desconocido</td>\n",
       "      <td>desconocido</td>\n",
       "      <td>G. Balazs</td>\n",
       "      <td>1995.12.18-NV-Taniyama.pdf</td>\n",
       "      <td>http://sharkattackfile.net/spreadsheets/pdf_di...</td>\n",
       "      <td>http://sharkattackfile.net/spreadsheets/pdf_di...</td>\n",
       "      <td>1995.12.18</td>\n",
       "      <td>1995.12.18</td>\n",
       "      <td>3975.0</td>\n",
       "      <td>0</td>\n",
       "      <td>0</td>\n",
       "    </tr>\n",
       "    <tr>\n",
       "      <th>2404</th>\n",
       "      <td>1995.00.00.b</td>\n",
       "      <td>1995</td>\n",
       "      <td>1995.0</td>\n",
       "      <td>Unprovoked</td>\n",
       "      <td>USA</td>\n",
       "      <td>South Carolina</td>\n",
       "      <td>Pawleys Island, Georgetown County</td>\n",
       "      <td>desconocido</td>\n",
       "      <td>male</td>\n",
       "      <td>M</td>\n",
       "      <td>desconocido</td>\n",
       "      <td>No details</td>\n",
       "      <td>UNKNOWN</td>\n",
       "      <td>desconocido</td>\n",
       "      <td>desconocido</td>\n",
       "      <td>C. Creswell, GSAF;  ISAF 2793</td>\n",
       "      <td>1995.00.00.b-NV-PawleysIsland.pdf</td>\n",
       "      <td>http://sharkattackfile.net/spreadsheets/pdf_di...</td>\n",
       "      <td>http://sharkattackfile.net/spreadsheets/pdf_di...</td>\n",
       "      <td>1995.00.00.b</td>\n",
       "      <td>1995.00.00.b</td>\n",
       "      <td>3899.0</td>\n",
       "      <td>0</td>\n",
       "      <td>0</td>\n",
       "    </tr>\n",
       "  </tbody>\n",
       "</table>\n",
       "</div>"
      ],
      "text/plain": [
       "       CASE NUMBER         DATE    YEAR        TYPE COUNTRY            AREA  \\\n",
       "624     2013.09.08  08-Sep-2013  2013.0  Unprovoked     USA  South Carolina   \n",
       "2260    1997.02.21  21-Feb-1997  1997.0  Unprovoked     USA          Hawaii   \n",
       "2307  1996.04.28.b  28-Apr-1996  1996.0  Unprovoked     USA          Hawaii   \n",
       "2328    1995.12.18  18-Dec-1995  1995.0  Unprovoked     USA          Hawaii   \n",
       "2404  1995.00.00.b         1995  1995.0  Unprovoked     USA  South Carolina   \n",
       "\n",
       "                                LOCATION     ACTIVITY              NAME SEX  \\\n",
       "624   St. Helena Island, Beaufort County  desconocido            female   F   \n",
       "2260                 Sunset Beach, O'ahu  desconocido   Gersome Perreno   M   \n",
       "2307                  La'ie Point, O'ahu  desconocido       Wayne Leong   M   \n",
       "2328                  Southwest of O'ahu  desconocido  Carlton Taniyama   M   \n",
       "2404   Pawleys Island, Georgetown County  desconocido              male   M   \n",
       "\n",
       "              AGE      INJURY FATAL (Y/N)         TIME      SPECIES  \\\n",
       "624   desconocido  No details     UNKNOWN  desconocido  desconocido   \n",
       "2260  desconocido  No details     UNKNOWN  desconocido  desconocido   \n",
       "2307  desconocido  No details     UNKNOWN  desconocido  desconocido   \n",
       "2328  desconocido  No details     UNKNOWN  desconocido  desconocido   \n",
       "2404  desconocido  No details     UNKNOWN  desconocido  desconocido   \n",
       "\n",
       "             INVESTIGATOR OR SOURCE                                PDF  \\\n",
       "624                WIS-TV, 9/9/2013           2013.09.08-St-Helena.pdf   \n",
       "2260                      G. Balazs          1997.02.21-NV-Perreno.pdf   \n",
       "2307                      G. Balazs             1996.04.28.b-Leong.pdf   \n",
       "2328                      G. Balazs         1995.12.18-NV-Taniyama.pdf   \n",
       "2404  C. Creswell, GSAF;  ISAF 2793  1995.00.00.b-NV-PawleysIsland.pdf   \n",
       "\n",
       "                                           HREF FORMULA  \\\n",
       "624   http://sharkattackfile.net/spreadsheets/pdf_di...   \n",
       "2260  http://sharkattackfile.net/spreadsheets/pdf_di...   \n",
       "2307  http://sharkattackfile.net/spreadsheets/pdf_di...   \n",
       "2328  http://sharkattackfile.net/spreadsheets/pdf_di...   \n",
       "2404  http://sharkattackfile.net/spreadsheets/pdf_di...   \n",
       "\n",
       "                                                   HREF CASE NUMBER.1  \\\n",
       "624   http://sharkattackfile.net/spreadsheets/pdf_di...    2013.09.08   \n",
       "2260  http://sharkattackfile.net/spreadsheets/pdf_di...    1997.02.21   \n",
       "2307  http://sharkattackfile.net/spreadsheets/pdf_di...  1996.04.28.b   \n",
       "2328  http://sharkattackfile.net/spreadsheets/pdf_di...    1995.12.18   \n",
       "2404  http://sharkattackfile.net/spreadsheets/pdf_di...  1995.00.00.b   \n",
       "\n",
       "     CASE NUMBER.2  ORIGINAL ORDER UNNAMED: 22 UNNAMED: 23  \n",
       "624     2013.09.08          5679.0           0           0  \n",
       "2260    1997.02.21          4043.0           0           0  \n",
       "2307  1996.04.28.b          3996.0           0           0  \n",
       "2328    1995.12.18          3975.0           0           0  \n",
       "2404  1995.00.00.b          3899.0           0           0  "
      ]
     },
     "execution_count": 45,
     "metadata": {},
     "output_type": "execute_result"
    }
   ],
   "source": [
    "attacks[attacks['FATAL (Y/N)'] == 'UNKNOWN'].head() "
   ]
  },
  {
   "cell_type": "code",
   "execution_count": 46,
   "id": "6ae8f2f3",
   "metadata": {},
   "outputs": [
    {
     "data": {
      "text/html": [
       "<div>\n",
       "<style scoped>\n",
       "    .dataframe tbody tr th:only-of-type {\n",
       "        vertical-align: middle;\n",
       "    }\n",
       "\n",
       "    .dataframe tbody tr th {\n",
       "        vertical-align: top;\n",
       "    }\n",
       "\n",
       "    .dataframe thead th {\n",
       "        text-align: right;\n",
       "    }\n",
       "</style>\n",
       "<table border=\"1\" class=\"dataframe\">\n",
       "  <thead>\n",
       "    <tr style=\"text-align: right;\">\n",
       "      <th></th>\n",
       "      <th>CASE NUMBER</th>\n",
       "      <th>DATE</th>\n",
       "      <th>YEAR</th>\n",
       "      <th>TYPE</th>\n",
       "      <th>COUNTRY</th>\n",
       "      <th>AREA</th>\n",
       "      <th>LOCATION</th>\n",
       "      <th>ACTIVITY</th>\n",
       "      <th>NAME</th>\n",
       "      <th>SEX</th>\n",
       "      <th>AGE</th>\n",
       "      <th>INJURY</th>\n",
       "      <th>FATAL (Y/N)</th>\n",
       "      <th>TIME</th>\n",
       "      <th>SPECIES</th>\n",
       "      <th>INVESTIGATOR OR SOURCE</th>\n",
       "      <th>PDF</th>\n",
       "      <th>HREF FORMULA</th>\n",
       "      <th>HREF</th>\n",
       "      <th>CASE NUMBER.1</th>\n",
       "      <th>CASE NUMBER.2</th>\n",
       "      <th>ORIGINAL ORDER</th>\n",
       "      <th>UNNAMED: 22</th>\n",
       "      <th>UNNAMED: 23</th>\n",
       "    </tr>\n",
       "  </thead>\n",
       "  <tbody>\n",
       "    <tr>\n",
       "      <th>285</th>\n",
       "      <td>2016.04.18.b</td>\n",
       "      <td>18-Apr-2016</td>\n",
       "      <td>2016.0</td>\n",
       "      <td>Provoked</td>\n",
       "      <td>FRENCH POLYNESIA</td>\n",
       "      <td>Tuamotos</td>\n",
       "      <td>Makemo Atoll</td>\n",
       "      <td>Spearfishing</td>\n",
       "      <td>Hoata Iotua</td>\n",
       "      <td>M</td>\n",
       "      <td>22</td>\n",
       "      <td>Laceration to knee by speared shark PROVOKED I...</td>\n",
       "      <td>M</td>\n",
       "      <td>Morning</td>\n",
       "      <td>Grey reef shark, 2 m</td>\n",
       "      <td>TNTV News, 4/19/2016</td>\n",
       "      <td>2016.04.18.b-Iotua.pdf</td>\n",
       "      <td>http://sharkattackfile.net/spreadsheets/pdf_di...</td>\n",
       "      <td>http://sharkattackfile.net/spreadsheets/pdf_di...</td>\n",
       "      <td>2016.04.18.b</td>\n",
       "      <td>2016.04.18.b</td>\n",
       "      <td>6018.0</td>\n",
       "      <td>0</td>\n",
       "      <td>0</td>\n",
       "    </tr>\n",
       "  </tbody>\n",
       "</table>\n",
       "</div>"
      ],
      "text/plain": [
       "      CASE NUMBER         DATE    YEAR      TYPE           COUNTRY      AREA  \\\n",
       "285  2016.04.18.b  18-Apr-2016  2016.0  Provoked  FRENCH POLYNESIA  Tuamotos   \n",
       "\n",
       "         LOCATION      ACTIVITY         NAME SEX AGE  \\\n",
       "285  Makemo Atoll  Spearfishing  Hoata Iotua   M  22   \n",
       "\n",
       "                                                INJURY FATAL (Y/N)     TIME  \\\n",
       "285  Laceration to knee by speared shark PROVOKED I...           M  Morning   \n",
       "\n",
       "                  SPECIES INVESTIGATOR OR SOURCE                     PDF  \\\n",
       "285  Grey reef shark, 2 m   TNTV News, 4/19/2016  2016.04.18.b-Iotua.pdf   \n",
       "\n",
       "                                          HREF FORMULA  \\\n",
       "285  http://sharkattackfile.net/spreadsheets/pdf_di...   \n",
       "\n",
       "                                                  HREF CASE NUMBER.1  \\\n",
       "285  http://sharkattackfile.net/spreadsheets/pdf_di...  2016.04.18.b   \n",
       "\n",
       "    CASE NUMBER.2  ORIGINAL ORDER UNNAMED: 22 UNNAMED: 23  \n",
       "285  2016.04.18.b          6018.0           0           0  "
      ]
     },
     "execution_count": 46,
     "metadata": {},
     "output_type": "execute_result"
    }
   ],
   "source": [
    "attacks[attacks['FATAL (Y/N)'] == 'M'] #este es un caso NO fatal, asíque sobreescribo la M por N"
   ]
  },
  {
   "cell_type": "code",
   "execution_count": 47,
   "id": "c9b5eee2",
   "metadata": {},
   "outputs": [],
   "source": [
    "attacks['FATAL (Y/N)'] = attacks['FATAL (Y/N)'].replace('M', 'N') #sobreescribo la M"
   ]
  },
  {
   "cell_type": "code",
   "execution_count": 48,
   "id": "9c06024c",
   "metadata": {},
   "outputs": [
    {
     "data": {
      "text/html": [
       "<div>\n",
       "<style scoped>\n",
       "    .dataframe tbody tr th:only-of-type {\n",
       "        vertical-align: middle;\n",
       "    }\n",
       "\n",
       "    .dataframe tbody tr th {\n",
       "        vertical-align: top;\n",
       "    }\n",
       "\n",
       "    .dataframe thead th {\n",
       "        text-align: right;\n",
       "    }\n",
       "</style>\n",
       "<table border=\"1\" class=\"dataframe\">\n",
       "  <thead>\n",
       "    <tr style=\"text-align: right;\">\n",
       "      <th></th>\n",
       "      <th>CASE NUMBER</th>\n",
       "      <th>DATE</th>\n",
       "      <th>YEAR</th>\n",
       "      <th>TYPE</th>\n",
       "      <th>COUNTRY</th>\n",
       "      <th>AREA</th>\n",
       "      <th>LOCATION</th>\n",
       "      <th>ACTIVITY</th>\n",
       "      <th>NAME</th>\n",
       "      <th>SEX</th>\n",
       "      <th>AGE</th>\n",
       "      <th>INJURY</th>\n",
       "      <th>FATAL (Y/N)</th>\n",
       "      <th>TIME</th>\n",
       "      <th>SPECIES</th>\n",
       "      <th>INVESTIGATOR OR SOURCE</th>\n",
       "      <th>PDF</th>\n",
       "      <th>HREF FORMULA</th>\n",
       "      <th>HREF</th>\n",
       "      <th>CASE NUMBER.1</th>\n",
       "      <th>CASE NUMBER.2</th>\n",
       "      <th>ORIGINAL ORDER</th>\n",
       "      <th>UNNAMED: 22</th>\n",
       "      <th>UNNAMED: 23</th>\n",
       "    </tr>\n",
       "  </thead>\n",
       "  <tbody>\n",
       "    <tr>\n",
       "      <th>786</th>\n",
       "      <td>2012.06.10</td>\n",
       "      <td>10-Jun-2012</td>\n",
       "      <td>2012.0</td>\n",
       "      <td>Provoked</td>\n",
       "      <td>ITALY</td>\n",
       "      <td>Sardinia</td>\n",
       "      <td>Muravera</td>\n",
       "      <td>Attempting to rescue an injured &amp; beached shark</td>\n",
       "      <td>Giorgio Zara</td>\n",
       "      <td>M</td>\n",
       "      <td>57</td>\n",
       "      <td>Lower left leg injured PROVOKED ACCIDENT</td>\n",
       "      <td>2017</td>\n",
       "      <td>Morning</td>\n",
       "      <td>Blue shark, 2.5m</td>\n",
       "      <td>D. Puddo, 6/11/2012</td>\n",
       "      <td>2012.06.10-Zara.pdf</td>\n",
       "      <td>http://sharkattackfile.net/spreadsheets/pdf_di...</td>\n",
       "      <td>http://sharkattackfile.net/spreadsheets/pdf_di...</td>\n",
       "      <td>2012.06.10</td>\n",
       "      <td>2012.06.10</td>\n",
       "      <td>5517.0</td>\n",
       "      <td>0</td>\n",
       "      <td>0</td>\n",
       "    </tr>\n",
       "  </tbody>\n",
       "</table>\n",
       "</div>"
      ],
      "text/plain": [
       "    CASE NUMBER         DATE    YEAR      TYPE COUNTRY      AREA  LOCATION  \\\n",
       "786  2012.06.10  10-Jun-2012  2012.0  Provoked   ITALY  Sardinia  Muravera   \n",
       "\n",
       "                                            ACTIVITY          NAME SEX AGE  \\\n",
       "786  Attempting to rescue an injured & beached shark  Giorgio Zara   M  57   \n",
       "\n",
       "                                       INJURY FATAL (Y/N)     TIME  \\\n",
       "786  Lower left leg injured PROVOKED ACCIDENT        2017  Morning   \n",
       "\n",
       "              SPECIES INVESTIGATOR OR SOURCE                  PDF  \\\n",
       "786  Blue shark, 2.5m    D. Puddo, 6/11/2012  2012.06.10-Zara.pdf   \n",
       "\n",
       "                                          HREF FORMULA  \\\n",
       "786  http://sharkattackfile.net/spreadsheets/pdf_di...   \n",
       "\n",
       "                                                  HREF CASE NUMBER.1  \\\n",
       "786  http://sharkattackfile.net/spreadsheets/pdf_di...    2012.06.10   \n",
       "\n",
       "    CASE NUMBER.2  ORIGINAL ORDER UNNAMED: 22 UNNAMED: 23  \n",
       "786    2012.06.10          5517.0           0           0  "
      ]
     },
     "execution_count": 48,
     "metadata": {},
     "output_type": "execute_result"
    }
   ],
   "source": [
    "attacks[attacks['FATAL (Y/N)'] == '2017']  #miro el caso de \"2017\""
   ]
  },
  {
   "cell_type": "code",
   "execution_count": 49,
   "id": "e06cbfaa",
   "metadata": {},
   "outputs": [],
   "source": [
    "attacks['FATAL (Y/N)'] = attacks['FATAL (Y/N)'].replace('2017', 'N') #lo sobreescribo"
   ]
  },
  {
   "cell_type": "code",
   "execution_count": 50,
   "id": "39a29854",
   "metadata": {},
   "outputs": [],
   "source": [
    "attacks = attacks[attacks['FATAL (Y/N)'] != 'UNKNOWN'] "
   ]
  },
  {
   "cell_type": "code",
   "execution_count": 51,
   "id": "837e86d0",
   "metadata": {},
   "outputs": [
    {
     "data": {
      "text/plain": [
       "N    3997\n",
       "Y    1302\n",
       "Name: FATAL (Y/N), dtype: int64"
      ]
     },
     "execution_count": 51,
     "metadata": {},
     "output_type": "execute_result"
    }
   ],
   "source": [
    "attacks['FATAL (Y/N)'].value_counts() #listo, columna limpia, con fatales si o no. "
   ]
  },
  {
   "cell_type": "code",
   "execution_count": 52,
   "id": "824ae903",
   "metadata": {},
   "outputs": [
    {
     "data": {
      "text/plain": [
       "(5299, 24)"
      ]
     },
     "execution_count": 52,
     "metadata": {},
     "output_type": "execute_result"
    }
   ],
   "source": [
    "attacks.shape"
   ]
  },
  {
   "cell_type": "code",
   "execution_count": 53,
   "id": "8e681d21",
   "metadata": {},
   "outputs": [],
   "source": [
    "#ya tengo limpias SEX y FATAL, ahora voy por la columna COUNTRY que es la 3era que me sirve para mi objetivo"
   ]
  },
  {
   "cell_type": "code",
   "execution_count": 54,
   "id": "3e907217",
   "metadata": {},
   "outputs": [
    {
     "data": {
      "text/plain": [
       "array(['USA', 'AUSTRALIA', 'MEXICO', 'BRAZIL', 'ENGLAND', 'SOUTH AFRICA',\n",
       "       'THAILAND', 'COSTA RICA', 'MALDIVES', 'BAHAMAS', 'ECUADOR',\n",
       "       'NEW CALEDONIA', 'MALAYSIA', 'CUBA', 'MAURITIUS', 'NEW ZEALAND',\n",
       "       'SPAIN', 'SOLOMON ISLANDS', 'JAPAN', 'EGYPT',\n",
       "       'ST HELENA, British overseas territory', 'REUNION',\n",
       "       'FRENCH POLYNESIA', 'UNITED KINGDOM', 'UNITED ARAB EMIRATES',\n",
       "       'PHILIPPINES', 'INDONESIA', 'CHINA', 'COLUMBIA', 'Fiji',\n",
       "       'DOMINICAN REPUBLIC', 'ARUBA', 'MOZAMBIQUE', 'FIJI', 'PUERTO RICO',\n",
       "       'ITALY', 'ST. MARTIN', 'FRANCE', 'CAYMAN ISLANDS',\n",
       "       'PAPUA NEW GUINEA', 'TRINIDAD & TOBAGO', 'KIRIBATI', 'ISRAEL',\n",
       "       'DIEGO GARCIA', 'TAIWAN', 'PALESTINIAN TERRITORIES', 'GUAM',\n",
       "       'SEYCHELLES', 'BELIZE', 'JAMAICA', 'NIGERIA', 'TONGA', 'SCOTLAND',\n",
       "       'CHILE', 'KENYA', 'RUSSIA', 'TURKS & CAICOS', 'SAMOA', 'AZORES',\n",
       "       'SOUTH KOREA', 'MALTA', 'VIETNAM', 'MADAGASCAR',\n",
       "       'UNITED ARAB EMIRATES (UAE)', 'PANAMA', 'SOMALIA', 'CROATIA',\n",
       "       'NORWAY', 'Sierra Leone', 'ATLANTIC OCEAN', 'ST. MAARTIN',\n",
       "       'GRAND CAYMAN', 'Seychelles', 'VANUATU', 'MEXICO ', 'VENEZUELA',\n",
       "       'SRI LANKA', ' TONGA', 'URUGUAY', 'INDIA', 'MICRONESIA', 'CANADA',\n",
       "       'OKINAWA', 'TANZANIA', 'MARSHALL ISLANDS', 'SENEGAL',\n",
       "       'EGYPT / ISRAEL', 'NORTHERN ARABIAN SEA', 'HONG KONG',\n",
       "       'EL SALVADOR', 'CARIBBEAN SEA', 'ANGOLA', 'BERMUDA', 'MONTENEGRO',\n",
       "       'IRAN', 'TUNISIA', 'NAMIBIA', 'GREECE', 'NORTH ATLANTIC OCEAN',\n",
       "       'PORTUGAL', 'SOUTH CHINA SEA', 'PALAU', 'WESTERN SAMOA',\n",
       "       'PACIFIC OCEAN ', 'BRITISH ISLES', 'GRENADA', 'IRAQ', 'TURKEY',\n",
       "       'SINGAPORE', 'NEW BRITAIN', 'SUDAN', 'JOHNSTON ISLAND',\n",
       "       'SOUTH PACIFIC OCEAN', 'NEW GUINEA', 'RED SEA',\n",
       "       'NORTH PACIFIC OCEAN', 'FEDERATED STATES OF MICRONESIA',\n",
       "       'MID ATLANTIC OCEAN', 'ADMIRALTY ISLANDS', 'BRITISH WEST INDIES',\n",
       "       'SOUTH ATLANTIC OCEAN', 'PERSIAN GULF', 'RED SEA / INDIAN OCEAN',\n",
       "       'PACIFIC OCEAN', 'NORTH SEA', 'NICARAGUA ', 'MALDIVE ISLANDS',\n",
       "       'AMERICAN SAMOA', 'ANDAMAN / NICOBAR ISLANDAS', 'GABON', 'MAYOTTE',\n",
       "       'NORTH ATLANTIC OCEAN ', 'YEMEN', 'THE BALKANS', 'SUDAN?',\n",
       "       'ARGENTINA', 'MARTINIQUE', 'NETHERLANDS ANTILLES', 'LIBERIA',\n",
       "       'SAUDI ARABIA', 'NORTHERN MARIANA ISLANDS', 'IRAN / IRAQ',\n",
       "       'SIERRA LEONE', ' PHILIPPINES', 'CENTRAL PACIFIC', 'INDIAN OCEAN',\n",
       "       'SOLOMON ISLANDS / VANUATU', 'SOUTHWEST PACIFIC OCEAN',\n",
       "       'BAY OF BENGAL', 'MID-PACIFC OCEAN', 'CURACAO', 'ICELAND',\n",
       "       'ITALY / CROATIA', 'CAPE VERDE', 'HONDURAS', 'NICARAGUA', 'MONACO',\n",
       "       'GUYANA', 'BARBADOS', 'HAITI', 'SAN DOMINGO', 'IRELAND', 'KUWAIT',\n",
       "       'LIBYA', 'YEMEN ', 'REUNION ISLAND', 'FALKLAND ISLANDS', 'CRETE',\n",
       "       'CYPRUS', 'EGYPT ', 'WEST INDIES', 'BURMA', 'LEBANON',\n",
       "       'BRITISH NEW GUINEA', 'OCEAN', 'GEORGIA', 'SYRIA', 'INDIAN OCEAN?',\n",
       "       'GUINEA', 'ANDAMAN ISLANDS', 'CEYLON',\n",
       "       'EQUATORIAL GUINEA / CAMEROON', 'COOK ISLANDS', 'TOBAGO', 'PERU',\n",
       "       'AFRICA', 'ALGERIA', 'Coast of AFRICA', 'TASMAN SEA', 'GHANA',\n",
       "       'MEDITERRANEAN SEA', 'Between PORTUGAL & INDIA', 'BAHREIN',\n",
       "       'KOREA', 'RED SEA?', 'ASIA?', 'CEYLON (SRI LANKA)'], dtype=object)"
      ]
     },
     "execution_count": 54,
     "metadata": {},
     "output_type": "execute_result"
    }
   ],
   "source": [
    "attacks['COUNTRY'].unique()"
   ]
  },
  {
   "cell_type": "code",
   "execution_count": 55,
   "id": "7ab1474e",
   "metadata": {},
   "outputs": [
    {
     "data": {
      "text/plain": [
       "197"
      ]
     },
     "execution_count": 55,
     "metadata": {},
     "output_type": "execute_result"
    }
   ],
   "source": [
    "attacks['COUNTRY'].nunique()"
   ]
  },
  {
   "cell_type": "code",
   "execution_count": 56,
   "id": "bdf92b51",
   "metadata": {},
   "outputs": [],
   "source": [
    "# Limpieza de la columna \"Country\""
   ]
  },
  {
   "cell_type": "code",
   "execution_count": 57,
   "id": "c2875e11",
   "metadata": {},
   "outputs": [],
   "source": [
    "attacks['COUNTRY'] = attacks['COUNTRY'].str.strip()  # Elimino espacios en blanco"
   ]
  },
  {
   "cell_type": "code",
   "execution_count": 58,
   "id": "109060b0",
   "metadata": {},
   "outputs": [
    {
     "data": {
      "text/plain": [
       "189"
      ]
     },
     "execution_count": 58,
     "metadata": {},
     "output_type": "execute_result"
    }
   ],
   "source": [
    "attacks['COUNTRY'].nunique()"
   ]
  },
  {
   "cell_type": "code",
   "execution_count": 59,
   "id": "6c6249d4",
   "metadata": {},
   "outputs": [],
   "source": [
    "country_mapping = {                       # Unifico algunos valores que representan la misma ubicación\n",
    "    'ATLANTIC OCEAN': 'OCEAN',\n",
    "    'PACIFIC OCEAN': 'OCEAN',\n",
    "    'RED SEA': 'OCEAN',\n",
    "    'INDIAN OCEAN': 'OCEAN',\n",
    "    'NORTH ATLANTIC OCEAN': 'OCEAN',\n",
    "    'NORTH ATLANTIC OCEAN ': 'OCEAN',\n",
    "    'INDIAN OCEAN?': 'OCEAN',\n",
    "    'OCEAN': 'OCEAN',\n",
    "    'SOUTHWEST PACIFIC OCEAN': 'OCEAN',\n",
    "    'SOUTH PACIFIC OCEAN': 'OCEAN',\n",
    "    'SOUTH ATLANTIC OCEAN': 'OCEAN',\n",
    "    'RED SEA / INDIAN OCEANN': 'OCEAN',\n",
    "    'NORTH PACIFIC OCEAN': 'OCEAN',\n",
    "    'MID ATLANTIC OCEAN': 'OCEAN',\n",
    "    'MID-PACIFC OCEAN': 'OCEAN', \n",
    "    'CARIBBEAN SEA': 'OCEAN',   \n",
    "    'ENGLAND': 'UNITED KINGDOM', \n",
    "    'SCOTLAND': 'UNITED KINGDOM', \n",
    "    'BRITISH ISLES': 'UNITED KINGDOM', \n",
    "    'UNITED ARAB EMIRATES (UAE)': 'UNITED ARAB EMIRATES',\n",
    "    'RED SEA / INDIAN OCEAN': 'OCEAN',  \n",
    "    'NORTH SEA': 'OCEAN', \n",
    "    'SUDAN?': 'SUDAN', \n",
    "    'CENTRAL PACIFIC': 'OCEAN', \n",
    "    'WESTERN SAMOA': 'SAMOA',\n",
    "    'TOBAGO': 'TRINIDAD & TOBAGO',\n",
    "    'BAY OF BENGAL': 'OCEAN',  \n",
    "    'ANDAMAN ISLANDS': 'INDIA', \n",
    "    'CEYLON': 'SRI LANKA',  \n",
    "    'CEYLON (SRI LANKA)': 'SRI LANKA',\n",
    "    'RED SEA?': 'OCEAN', \n",
    "    'Coast of AFRICA': 'AFRICA', \n",
    "    'Between PORTUGAL & INDIA': 'OCEAN',\n",
    "    'Fiji': 'FIJI', \n",
    "    'ASIA?': 'ASIA',\n",
    "}\n",
    "\n",
    "attacks['COUNTRY'] = attacks['COUNTRY'].replace(country_mapping)"
   ]
  },
  {
   "cell_type": "code",
   "execution_count": 60,
   "id": "7c8bbe10",
   "metadata": {},
   "outputs": [
    {
     "data": {
      "text/plain": [
       "158"
      ]
     },
     "execution_count": 60,
     "metadata": {},
     "output_type": "execute_result"
    }
   ],
   "source": [
    "attacks['COUNTRY'].nunique()"
   ]
  },
  {
   "cell_type": "code",
   "execution_count": 61,
   "id": "2cdf3783",
   "metadata": {},
   "outputs": [
    {
     "data": {
      "text/plain": [
       "array(['USA', 'AUSTRALIA', 'MEXICO', 'BRAZIL', 'UNITED KINGDOM',\n",
       "       'SOUTH AFRICA', 'THAILAND', 'COSTA RICA', 'MALDIVES', 'BAHAMAS',\n",
       "       'ECUADOR', 'NEW CALEDONIA', 'MALAYSIA', 'CUBA', 'MAURITIUS',\n",
       "       'NEW ZEALAND', 'SPAIN', 'SOLOMON ISLANDS', 'JAPAN', 'EGYPT',\n",
       "       'ST HELENA, British overseas territory', 'REUNION',\n",
       "       'FRENCH POLYNESIA', 'UNITED ARAB EMIRATES', 'PHILIPPINES',\n",
       "       'INDONESIA', 'CHINA', 'COLUMBIA', 'FIJI', 'DOMINICAN REPUBLIC',\n",
       "       'ARUBA', 'MOZAMBIQUE', 'PUERTO RICO', 'ITALY', 'ST. MARTIN',\n",
       "       'FRANCE', 'CAYMAN ISLANDS', 'PAPUA NEW GUINEA',\n",
       "       'TRINIDAD & TOBAGO', 'KIRIBATI', 'ISRAEL', 'DIEGO GARCIA',\n",
       "       'TAIWAN', 'PALESTINIAN TERRITORIES', 'GUAM', 'SEYCHELLES',\n",
       "       'BELIZE', 'JAMAICA', 'NIGERIA', 'TONGA', 'CHILE', 'KENYA',\n",
       "       'RUSSIA', 'TURKS & CAICOS', 'SAMOA', 'AZORES', 'SOUTH KOREA',\n",
       "       'MALTA', 'VIETNAM', 'MADAGASCAR', 'PANAMA', 'SOMALIA', 'CROATIA',\n",
       "       'NORWAY', 'Sierra Leone', 'OCEAN', 'ST. MAARTIN', 'GRAND CAYMAN',\n",
       "       'Seychelles', 'VANUATU', 'VENEZUELA', 'SRI LANKA', 'URUGUAY',\n",
       "       'INDIA', 'MICRONESIA', 'CANADA', 'OKINAWA', 'TANZANIA',\n",
       "       'MARSHALL ISLANDS', 'SENEGAL', 'EGYPT / ISRAEL',\n",
       "       'NORTHERN ARABIAN SEA', 'HONG KONG', 'EL SALVADOR', 'ANGOLA',\n",
       "       'BERMUDA', 'MONTENEGRO', 'IRAN', 'TUNISIA', 'NAMIBIA', 'GREECE',\n",
       "       'PORTUGAL', 'SOUTH CHINA SEA', 'PALAU', 'GRENADA', 'IRAQ',\n",
       "       'TURKEY', 'SINGAPORE', 'NEW BRITAIN', 'SUDAN', 'JOHNSTON ISLAND',\n",
       "       'NEW GUINEA', 'FEDERATED STATES OF MICRONESIA',\n",
       "       'ADMIRALTY ISLANDS', 'BRITISH WEST INDIES', 'PERSIAN GULF',\n",
       "       'NICARAGUA', 'MALDIVE ISLANDS', 'AMERICAN SAMOA',\n",
       "       'ANDAMAN / NICOBAR ISLANDAS', 'GABON', 'MAYOTTE', 'YEMEN',\n",
       "       'THE BALKANS', 'ARGENTINA', 'MARTINIQUE', 'NETHERLANDS ANTILLES',\n",
       "       'LIBERIA', 'SAUDI ARABIA', 'NORTHERN MARIANA ISLANDS',\n",
       "       'IRAN / IRAQ', 'SIERRA LEONE', 'SOLOMON ISLANDS / VANUATU',\n",
       "       'CURACAO', 'ICELAND', 'ITALY / CROATIA', 'CAPE VERDE', 'HONDURAS',\n",
       "       'MONACO', 'GUYANA', 'BARBADOS', 'HAITI', 'SAN DOMINGO', 'IRELAND',\n",
       "       'KUWAIT', 'LIBYA', 'REUNION ISLAND', 'FALKLAND ISLANDS', 'CRETE',\n",
       "       'CYPRUS', 'WEST INDIES', 'BURMA', 'LEBANON', 'BRITISH NEW GUINEA',\n",
       "       'GEORGIA', 'SYRIA', 'GUINEA', 'EQUATORIAL GUINEA / CAMEROON',\n",
       "       'COOK ISLANDS', 'PERU', 'AFRICA', 'ALGERIA', 'TASMAN SEA', 'GHANA',\n",
       "       'MEDITERRANEAN SEA', 'BAHREIN', 'KOREA', 'ASIA'], dtype=object)"
      ]
     },
     "execution_count": 61,
     "metadata": {},
     "output_type": "execute_result"
    }
   ],
   "source": [
    "attacks['COUNTRY'].unique()"
   ]
  },
  {
   "cell_type": "code",
   "execution_count": 62,
   "id": "f8f825f4",
   "metadata": {},
   "outputs": [
    {
     "data": {
      "text/html": [
       "<div>\n",
       "<style scoped>\n",
       "    .dataframe tbody tr th:only-of-type {\n",
       "        vertical-align: middle;\n",
       "    }\n",
       "\n",
       "    .dataframe tbody tr th {\n",
       "        vertical-align: top;\n",
       "    }\n",
       "\n",
       "    .dataframe thead th {\n",
       "        text-align: right;\n",
       "    }\n",
       "</style>\n",
       "<table border=\"1\" class=\"dataframe\">\n",
       "  <thead>\n",
       "    <tr style=\"text-align: right;\">\n",
       "      <th></th>\n",
       "      <th>count</th>\n",
       "      <th>unique</th>\n",
       "      <th>top</th>\n",
       "      <th>freq</th>\n",
       "    </tr>\n",
       "  </thead>\n",
       "  <tbody>\n",
       "    <tr>\n",
       "      <th>CASE NUMBER</th>\n",
       "      <td>5299</td>\n",
       "      <td>5287</td>\n",
       "      <td>2014.08.02</td>\n",
       "      <td>2</td>\n",
       "    </tr>\n",
       "    <tr>\n",
       "      <th>DATE</th>\n",
       "      <td>5299</td>\n",
       "      <td>4615</td>\n",
       "      <td>1957</td>\n",
       "      <td>8</td>\n",
       "    </tr>\n",
       "    <tr>\n",
       "      <th>TYPE</th>\n",
       "      <td>5299</td>\n",
       "      <td>8</td>\n",
       "      <td>Unprovoked</td>\n",
       "      <td>4352</td>\n",
       "    </tr>\n",
       "    <tr>\n",
       "      <th>COUNTRY</th>\n",
       "      <td>5299</td>\n",
       "      <td>158</td>\n",
       "      <td>USA</td>\n",
       "      <td>1973</td>\n",
       "    </tr>\n",
       "    <tr>\n",
       "      <th>AREA</th>\n",
       "      <td>5299</td>\n",
       "      <td>696</td>\n",
       "      <td>Florida</td>\n",
       "      <td>951</td>\n",
       "    </tr>\n",
       "    <tr>\n",
       "      <th>LOCATION</th>\n",
       "      <td>5299</td>\n",
       "      <td>3528</td>\n",
       "      <td>desconocido</td>\n",
       "      <td>402</td>\n",
       "    </tr>\n",
       "    <tr>\n",
       "      <th>ACTIVITY</th>\n",
       "      <td>5299</td>\n",
       "      <td>1292</td>\n",
       "      <td>Surfing</td>\n",
       "      <td>907</td>\n",
       "    </tr>\n",
       "    <tr>\n",
       "      <th>NAME</th>\n",
       "      <td>5299</td>\n",
       "      <td>4535</td>\n",
       "      <td>male</td>\n",
       "      <td>485</td>\n",
       "    </tr>\n",
       "    <tr>\n",
       "      <th>SEX</th>\n",
       "      <td>5299</td>\n",
       "      <td>2</td>\n",
       "      <td>M</td>\n",
       "      <td>4722</td>\n",
       "    </tr>\n",
       "    <tr>\n",
       "      <th>AGE</th>\n",
       "      <td>5299</td>\n",
       "      <td>144</td>\n",
       "      <td>desconocido</td>\n",
       "      <td>2063</td>\n",
       "    </tr>\n",
       "    <tr>\n",
       "      <th>INJURY</th>\n",
       "      <td>5299</td>\n",
       "      <td>3063</td>\n",
       "      <td>FATAL</td>\n",
       "      <td>734</td>\n",
       "    </tr>\n",
       "    <tr>\n",
       "      <th>FATAL (Y/N)</th>\n",
       "      <td>5299</td>\n",
       "      <td>2</td>\n",
       "      <td>N</td>\n",
       "      <td>3997</td>\n",
       "    </tr>\n",
       "    <tr>\n",
       "      <th>TIME</th>\n",
       "      <td>5299</td>\n",
       "      <td>349</td>\n",
       "      <td>desconocido</td>\n",
       "      <td>2570</td>\n",
       "    </tr>\n",
       "    <tr>\n",
       "      <th>SPECIES</th>\n",
       "      <td>5299</td>\n",
       "      <td>1399</td>\n",
       "      <td>desconocido</td>\n",
       "      <td>2506</td>\n",
       "    </tr>\n",
       "    <tr>\n",
       "      <th>INVESTIGATOR OR SOURCE</th>\n",
       "      <td>5299</td>\n",
       "      <td>4263</td>\n",
       "      <td>S. Petersohn, GSAF</td>\n",
       "      <td>80</td>\n",
       "    </tr>\n",
       "    <tr>\n",
       "      <th>PDF</th>\n",
       "      <td>5299</td>\n",
       "      <td>5290</td>\n",
       "      <td>1923.00.00.a-NJ fisherman.pdf</td>\n",
       "      <td>2</td>\n",
       "    </tr>\n",
       "    <tr>\n",
       "      <th>HREF FORMULA</th>\n",
       "      <td>5299</td>\n",
       "      <td>5290</td>\n",
       "      <td>http://sharkattackfile.net/spreadsheets/pdf_di...</td>\n",
       "      <td>2</td>\n",
       "    </tr>\n",
       "    <tr>\n",
       "      <th>HREF</th>\n",
       "      <td>5299</td>\n",
       "      <td>5284</td>\n",
       "      <td>http://sharkattackfile.net/spreadsheets/pdf_di...</td>\n",
       "      <td>4</td>\n",
       "    </tr>\n",
       "    <tr>\n",
       "      <th>CASE NUMBER.1</th>\n",
       "      <td>5299</td>\n",
       "      <td>5287</td>\n",
       "      <td>2014.08.02</td>\n",
       "      <td>2</td>\n",
       "    </tr>\n",
       "    <tr>\n",
       "      <th>CASE NUMBER.2</th>\n",
       "      <td>5299</td>\n",
       "      <td>5287</td>\n",
       "      <td>2014.08.02</td>\n",
       "      <td>2</td>\n",
       "    </tr>\n",
       "    <tr>\n",
       "      <th>UNNAMED: 22</th>\n",
       "      <td>5299</td>\n",
       "      <td>2</td>\n",
       "      <td>0</td>\n",
       "      <td>5298</td>\n",
       "    </tr>\n",
       "    <tr>\n",
       "      <th>UNNAMED: 23</th>\n",
       "      <td>5299</td>\n",
       "      <td>3</td>\n",
       "      <td>0</td>\n",
       "      <td>5297</td>\n",
       "    </tr>\n",
       "  </tbody>\n",
       "</table>\n",
       "</div>"
      ],
      "text/plain": [
       "                       count unique  \\\n",
       "CASE NUMBER             5299   5287   \n",
       "DATE                    5299   4615   \n",
       "TYPE                    5299      8   \n",
       "COUNTRY                 5299    158   \n",
       "AREA                    5299    696   \n",
       "LOCATION                5299   3528   \n",
       "ACTIVITY                5299   1292   \n",
       "NAME                    5299   4535   \n",
       "SEX                     5299      2   \n",
       "AGE                     5299    144   \n",
       "INJURY                  5299   3063   \n",
       "FATAL (Y/N)             5299      2   \n",
       "TIME                    5299    349   \n",
       "SPECIES                 5299   1399   \n",
       "INVESTIGATOR OR SOURCE  5299   4263   \n",
       "PDF                     5299   5290   \n",
       "HREF FORMULA            5299   5290   \n",
       "HREF                    5299   5284   \n",
       "CASE NUMBER.1           5299   5287   \n",
       "CASE NUMBER.2           5299   5287   \n",
       "UNNAMED: 22             5299      2   \n",
       "UNNAMED: 23             5299      3   \n",
       "\n",
       "                                                                      top  \\\n",
       "CASE NUMBER                                                    2014.08.02   \n",
       "DATE                                                                 1957   \n",
       "TYPE                                                           Unprovoked   \n",
       "COUNTRY                                                               USA   \n",
       "AREA                                                              Florida   \n",
       "LOCATION                                                      desconocido   \n",
       "ACTIVITY                                                          Surfing   \n",
       "NAME                                                                 male   \n",
       "SEX                                                                     M   \n",
       "AGE                                                           desconocido   \n",
       "INJURY                                                              FATAL   \n",
       "FATAL (Y/N)                                                             N   \n",
       "TIME                                                          desconocido   \n",
       "SPECIES                                                       desconocido   \n",
       "INVESTIGATOR OR SOURCE                                 S. Petersohn, GSAF   \n",
       "PDF                                         1923.00.00.a-NJ fisherman.pdf   \n",
       "HREF FORMULA            http://sharkattackfile.net/spreadsheets/pdf_di...   \n",
       "HREF                    http://sharkattackfile.net/spreadsheets/pdf_di...   \n",
       "CASE NUMBER.1                                                  2014.08.02   \n",
       "CASE NUMBER.2                                                  2014.08.02   \n",
       "UNNAMED: 22                                                             0   \n",
       "UNNAMED: 23                                                             0   \n",
       "\n",
       "                        freq  \n",
       "CASE NUMBER                2  \n",
       "DATE                       8  \n",
       "TYPE                    4352  \n",
       "COUNTRY                 1973  \n",
       "AREA                     951  \n",
       "LOCATION                 402  \n",
       "ACTIVITY                 907  \n",
       "NAME                     485  \n",
       "SEX                     4722  \n",
       "AGE                     2063  \n",
       "INJURY                   734  \n",
       "FATAL (Y/N)             3997  \n",
       "TIME                    2570  \n",
       "SPECIES                 2506  \n",
       "INVESTIGATOR OR SOURCE    80  \n",
       "PDF                        2  \n",
       "HREF FORMULA               2  \n",
       "HREF                       4  \n",
       "CASE NUMBER.1              2  \n",
       "CASE NUMBER.2              2  \n",
       "UNNAMED: 22             5298  \n",
       "UNNAMED: 23             5297  "
      ]
     },
     "execution_count": 62,
     "metadata": {},
     "output_type": "execute_result"
    }
   ],
   "source": [
    "attacks.describe(include='object').T #una mirada \"rápida\" por el df actual"
   ]
  },
  {
   "cell_type": "code",
   "execution_count": 63,
   "id": "c828541a",
   "metadata": {},
   "outputs": [],
   "source": [
    "#Ahora empiezo con mi objetivo. Primero quiero saber en qué 3 países se produjeron más ataques de tiburón"
   ]
  },
  {
   "cell_type": "code",
   "execution_count": 64,
   "id": "ca78aa65",
   "metadata": {},
   "outputs": [
    {
     "data": {
      "text/plain": [
       "USA             1973\n",
       "AUSTRALIA       1108\n",
       "SOUTH AFRICA     474\n",
       "Name: COUNTRY, dtype: int64"
      ]
     },
     "execution_count": 64,
     "metadata": {},
     "output_type": "execute_result"
    }
   ],
   "source": [
    "attacks['COUNTRY'].value_counts().head(3)"
   ]
  },
  {
   "cell_type": "code",
   "execution_count": 65,
   "id": "4efaf4e9",
   "metadata": {},
   "outputs": [],
   "source": [
    "#tambien quiero saber qué porcentaje de ataques fueron fatales y cuántos no, a nivel global"
   ]
  },
  {
   "cell_type": "code",
   "execution_count": 66,
   "id": "3585480e",
   "metadata": {},
   "outputs": [
    {
     "name": "stdout",
     "output_type": "stream",
     "text": [
      "Porcentaje de ataques fatales: 24.57%\n",
      "Porcentaje de ataques no fatales: 75.43%\n"
     ]
    }
   ],
   "source": [
    "fatal_counts = attacks['FATAL (Y/N)'].value_counts()\n",
    "total_attacks = len(attacks)\n",
    "\n",
    "fatal_percentage = (fatal_counts['Y'] / total_attacks) * 100\n",
    "non_fatal_percentage = (fatal_counts['N'] / total_attacks) * 100\n",
    "\n",
    "print(f\"Porcentaje de ataques fatales: {fatal_percentage:.2f}%\")\n",
    "print(f\"Porcentaje de ataques no fatales: {non_fatal_percentage:.2f}%\")"
   ]
  },
  {
   "cell_type": "code",
   "execution_count": 67,
   "id": "89ac6cd2",
   "metadata": {},
   "outputs": [],
   "source": [
    "#quiero saber qué porcentaje de ataques se dieron en hombres, y cuántos en mujeres a nivel global"
   ]
  },
  {
   "cell_type": "code",
   "execution_count": 68,
   "id": "f48c7506",
   "metadata": {},
   "outputs": [
    {
     "name": "stdout",
     "output_type": "stream",
     "text": [
      "Porcentaje de ataques en mujeres: 10.89%\n",
      "Porcentaje de ataques en hombres: 89.11%\n"
     ]
    }
   ],
   "source": [
    "gender_counts = attacks['SEX'].value_counts()\n",
    "total_attacks = len(attacks)\n",
    "\n",
    "female_attacks = (gender_counts['F'] / total_attacks) * 100   # así calculo el porcentaje en mujeres y hombres\n",
    "male_attacks = (gender_counts['M'] / total_attacks) * 100\n",
    "\n",
    "print(f\"Porcentaje de ataques en mujeres: {female_attacks:.2f}%\")\n",
    "print(f\"Porcentaje de ataques en hombres: {male_attacks:.2f}%\")"
   ]
  },
  {
   "cell_type": "code",
   "execution_count": 69,
   "id": "8ec14c97",
   "metadata": {},
   "outputs": [],
   "source": [
    "# ahora me gustaria centrarme en los 1973 casos que se produjeron en USA \n",
    "#y ver si fueron o no fatales, y si los atacados fueron hombres o mujeres"
   ]
  },
  {
   "cell_type": "code",
   "execution_count": 70,
   "id": "16f48e98",
   "metadata": {},
   "outputs": [
    {
     "name": "stdout",
     "output_type": "stream",
     "text": [
      "Porcentaje de ataques fatales: 9.93%\n",
      "Porcentaje de ataques no fatales: 90.07%\n"
     ]
    }
   ],
   "source": [
    "usa_attacks = attacks[attacks['COUNTRY'] == 'USA']\n",
    "\n",
    "fatal_counts = usa_attacks['FATAL (Y/N)'].value_counts()\n",
    "total_attacks = len(usa_attacks)\n",
    "\n",
    "fatal_percentage = (fatal_counts['Y'] / total_attacks) * 100\n",
    "non_fatal_percentage = (fatal_counts['N'] / total_attacks) * 100\n",
    "\n",
    "print(f\"Porcentaje de ataques fatales: {fatal_percentage:.2f}%\")\n",
    "print(f\"Porcentaje de ataques no fatales: {non_fatal_percentage:.2f}%\")"
   ]
  },
  {
   "cell_type": "code",
   "execution_count": 71,
   "id": "710eb444",
   "metadata": {},
   "outputs": [
    {
     "name": "stdout",
     "output_type": "stream",
     "text": [
      "Ataques fatales a mujeres en USA: 14 (0.71%)\n",
      "Ataques no fatales a mujeres en USA: 293 (14.85%)\n",
      "Ataques fatales a hombres en USA: 182 (9.22%)\n",
      "Ataques no fatales a hombres en USA: 1484 (75.22%)\n"
     ]
    }
   ],
   "source": [
    "usa_attacks = attacks[attacks['COUNTRY'] == 'USA'] #para centrarme solo en USA, \n",
    "                                                   #pero los porcentajes finales son respecto al TOTAL de ataques\n",
    "\n",
    "grouped_data = usa_attacks.groupby(['SEX', 'FATAL (Y/N)']).size().reset_index(name='count') #asi agruposegún sexo y fatalidad\n",
    "\n",
    "\n",
    "# me quedarían 4 categorias (F fatales, F no fatales, M fatales y M no fatales) y cuento cada una de ellas\n",
    "\n",
    "female_fatal = grouped_data[(grouped_data['SEX'] == 'F') & (grouped_data['FATAL (Y/N)'] == 'Y')]['count'].values[0]\n",
    "\n",
    "female_non_fatal = grouped_data[(grouped_data['SEX'] == 'F') & (grouped_data['FATAL (Y/N)'] == 'N')]['count'].values[0]\n",
    "\n",
    "male_fatal = grouped_data[(grouped_data['SEX'] == 'M') & (grouped_data['FATAL (Y/N)'] == 'Y')]['count'].values[0]\n",
    "\n",
    "male_non_fatal = grouped_data[(grouped_data['SEX'] == 'M') & (grouped_data['FATAL (Y/N)'] == 'N')]['count'].values[0]\n",
    "\n",
    "percentage_female_fatal = (female_fatal / total_attacks) * 100\n",
    "percentage_female_non_fatal = (female_non_fatal / total_attacks) * 100\n",
    "\n",
    "percentage_male_fatal = (male_fatal / total_attacks) * 100\n",
    "percentage_male_non_fatal = (male_non_fatal / total_attacks) * 100\n",
    "\n",
    "print(f\"Ataques fatales a mujeres en USA: {female_fatal} ({percentage_female_fatal:.2f}%)\")\n",
    "print(f\"Ataques no fatales a mujeres en USA: {female_non_fatal} ({percentage_female_non_fatal:.2f}%)\")\n",
    "print(f\"Ataques fatales a hombres en USA: {male_fatal} ({percentage_male_fatal:.2f}%)\")\n",
    "print(f\"Ataques no fatales a hombres en USA: {male_non_fatal} ({percentage_male_non_fatal:.2f}%)\")"
   ]
  },
  {
   "cell_type": "code",
   "execution_count": null,
   "id": "b482ea5a",
   "metadata": {},
   "outputs": [],
   "source": []
  },
  {
   "cell_type": "code",
   "execution_count": null,
   "id": "4e449af6",
   "metadata": {},
   "outputs": [],
   "source": []
  },
  {
   "cell_type": "code",
   "execution_count": null,
   "id": "b2cee722",
   "metadata": {},
   "outputs": [],
   "source": []
  },
  {
   "cell_type": "code",
   "execution_count": null,
   "id": "0def4b19",
   "metadata": {},
   "outputs": [],
   "source": []
  },
  {
   "cell_type": "code",
   "execution_count": null,
   "id": "e0df8984",
   "metadata": {},
   "outputs": [],
   "source": []
  },
  {
   "cell_type": "code",
   "execution_count": null,
   "id": "be033532",
   "metadata": {},
   "outputs": [],
   "source": []
  },
  {
   "cell_type": "code",
   "execution_count": null,
   "id": "ddc3d122",
   "metadata": {},
   "outputs": [],
   "source": []
  },
  {
   "cell_type": "code",
   "execution_count": null,
   "id": "99e73d3c",
   "metadata": {},
   "outputs": [],
   "source": []
  },
  {
   "cell_type": "code",
   "execution_count": null,
   "id": "f793cf8a",
   "metadata": {},
   "outputs": [],
   "source": []
  }
 ],
 "metadata": {
  "kernelspec": {
   "display_name": "Python 3 (ipykernel)",
   "language": "python",
   "name": "python3"
  },
  "language_info": {
   "codemirror_mode": {
    "name": "ipython",
    "version": 3
   },
   "file_extension": ".py",
   "mimetype": "text/x-python",
   "name": "python",
   "nbconvert_exporter": "python",
   "pygments_lexer": "ipython3",
   "version": "3.11.4"
  }
 },
 "nbformat": 4,
 "nbformat_minor": 5
}
